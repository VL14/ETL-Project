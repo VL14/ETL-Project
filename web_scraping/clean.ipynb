{
 "cells": [
  {
   "cell_type": "code",
   "execution_count": 1,
   "metadata": {},
   "outputs": [],
   "source": [
    "from covid19_healthdata_scraper import covid19_healthdata_scrape, covid19_healthdate_dates_bystate, covid19_healthdate_resources_bystate\n",
    "from states import us_states_list as us_states\n",
    "import pandas as pd"
   ]
  },
  {
   "cell_type": "code",
   "execution_count": 2,
   "metadata": {},
   "outputs": [],
   "source": [
    "for state in us_states:\n",
    "    covid19_healthdata_scrape(state)"
   ]
  },
  {
   "cell_type": "code",
   "execution_count": 29,
   "metadata": {},
   "outputs": [],
   "source": [
    "policydates_df = pd.DataFrame(covid19_healthdate_dates_bystate)"
   ]
  },
  {
   "cell_type": "code",
   "execution_count": 4,
   "metadata": {},
   "outputs": [],
   "source": [
    "resource_df = pd.DataFrame(covid19_healthdate_resources_bystate)"
   ]
  },
  {
   "cell_type": "code",
   "execution_count": 7,
   "metadata": {},
   "outputs": [],
   "source": [
    "policydates_df = policydates_df.set_index('state')\n",
    "resource_df = resource_df.set_index('state')"
   ]
  },
  {
   "cell_type": "code",
   "execution_count": 33,
   "metadata": {},
   "outputs": [],
   "source": [
    "columns = policydates_df.columns"
   ]
  },
  {
   "cell_type": "code",
   "execution_count": 31,
   "metadata": {},
   "outputs": [],
   "source": [
    "\n",
    "for x in columns:\n",
    "    for y in range(len(us_states)):\n",
    "        try:\n",
    "            policydates_df[x][y] = pd.to_datetime(policydates_df[x][y], format='%B %d, %Y')\n",
    "            policydates_df[x][y] = policydates_df[x][y].date()\n",
    "        except ValueError:\n",
    "            policydates_df[x][y] = policydates_df[x][y].replace('Not implemented', 'NaN')"
   ]
  },
  {
   "cell_type": "code",
   "execution_count": 25,
   "metadata": {},
   "outputs": [],
   "source": [
    "policydates_df.to_csv('covid19_policydates.csv')"
   ]
  },
  {
   "cell_type": "code",
   "execution_count": 26,
   "metadata": {},
   "outputs": [],
   "source": [
    "resource_df.to_csv('hospital_resources.csv')"
   ]
  },
  {
   "cell_type": "code",
   "execution_count": 12,
   "metadata": {},
   "outputs": [],
   "source": []
  },
  {
   "cell_type": "code",
   "execution_count": null,
   "metadata": {},
   "outputs": [],
   "source": []
  }
 ],
 "metadata": {
  "language_info": {
   "codemirror_mode": {
    "name": "ipython",
    "version": 3
   },
   "file_extension": ".py",
   "mimetype": "text/x-python",
   "name": "python",
   "nbconvert_exporter": "python",
   "pygments_lexer": "ipython3",
   "version": "3.7.7-final"
  },
  "orig_nbformat": 2,
  "kernelspec": {
   "name": "python37764bitpythondataconda58c3617d3eed445b80043e5831324c4d",
   "display_name": "Python 3.7.7 64-bit ('PythonData': conda)"
  }
 },
 "nbformat": 4,
 "nbformat_minor": 2
}