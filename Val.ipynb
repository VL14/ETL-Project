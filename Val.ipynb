{
 "cells": [
  {
   "cell_type": "code",
   "execution_count": 6,
   "metadata": {},
   "outputs": [],
   "source": [
    "import pandas as pd \n",
    "import csv  "
   ]
  },
  {
   "cell_type": "markdown",
   "metadata": {},
   "source": [
    "#Import csv with cases and deaths by state"
   ]
  },
  {
   "cell_type": "code",
   "execution_count": 7,
   "metadata": {},
   "outputs": [
    {
     "output_type": "execute_result",
     "data": {
      "text/plain": "   UID iso2 iso3  code3  FIPS Admin2            Province_State Country_Region  \\\n0   16   AS  ASM     16  60.0    NaN            American Samoa             US   \n1  316   GU  GUM    316  66.0    NaN                      Guam             US   \n2  580   MP  MNP    580  69.0    NaN  Northern Mariana Islands             US   \n3  630   PR  PRI    630  72.0    NaN               Puerto Rico             US   \n4  850   VI  VIR    850  78.0    NaN            Virgin Islands             US   \n\n       Lat     Long_                  Combined_Key     Date  Confirmed  Deaths  \n0 -14.2710 -170.1320            American Samoa, US  1/22/20          0       0  \n1  13.4443  144.7937                      Guam, US  1/22/20          0       0  \n2  15.0979  145.6739  Northern Mariana Islands, US  1/22/20          0       0  \n3  18.2208  -66.5901               Puerto Rico, US  1/22/20          0       0  \n4  18.3358  -64.8963            Virgin Islands, US  1/22/20          0       0  ",
      "text/html": "<div>\n<style scoped>\n    .dataframe tbody tr th:only-of-type {\n        vertical-align: middle;\n    }\n\n    .dataframe tbody tr th {\n        vertical-align: top;\n    }\n\n    .dataframe thead th {\n        text-align: right;\n    }\n</style>\n<table border=\"1\" class=\"dataframe\">\n  <thead>\n    <tr style=\"text-align: right;\">\n      <th></th>\n      <th>UID</th>\n      <th>iso2</th>\n      <th>iso3</th>\n      <th>code3</th>\n      <th>FIPS</th>\n      <th>Admin2</th>\n      <th>Province_State</th>\n      <th>Country_Region</th>\n      <th>Lat</th>\n      <th>Long_</th>\n      <th>Combined_Key</th>\n      <th>Date</th>\n      <th>Confirmed</th>\n      <th>Deaths</th>\n    </tr>\n  </thead>\n  <tbody>\n    <tr>\n      <th>0</th>\n      <td>16</td>\n      <td>AS</td>\n      <td>ASM</td>\n      <td>16</td>\n      <td>60.0</td>\n      <td>NaN</td>\n      <td>American Samoa</td>\n      <td>US</td>\n      <td>-14.2710</td>\n      <td>-170.1320</td>\n      <td>American Samoa, US</td>\n      <td>1/22/20</td>\n      <td>0</td>\n      <td>0</td>\n    </tr>\n    <tr>\n      <th>1</th>\n      <td>316</td>\n      <td>GU</td>\n      <td>GUM</td>\n      <td>316</td>\n      <td>66.0</td>\n      <td>NaN</td>\n      <td>Guam</td>\n      <td>US</td>\n      <td>13.4443</td>\n      <td>144.7937</td>\n      <td>Guam, US</td>\n      <td>1/22/20</td>\n      <td>0</td>\n      <td>0</td>\n    </tr>\n    <tr>\n      <th>2</th>\n      <td>580</td>\n      <td>MP</td>\n      <td>MNP</td>\n      <td>580</td>\n      <td>69.0</td>\n      <td>NaN</td>\n      <td>Northern Mariana Islands</td>\n      <td>US</td>\n      <td>15.0979</td>\n      <td>145.6739</td>\n      <td>Northern Mariana Islands, US</td>\n      <td>1/22/20</td>\n      <td>0</td>\n      <td>0</td>\n    </tr>\n    <tr>\n      <th>3</th>\n      <td>630</td>\n      <td>PR</td>\n      <td>PRI</td>\n      <td>630</td>\n      <td>72.0</td>\n      <td>NaN</td>\n      <td>Puerto Rico</td>\n      <td>US</td>\n      <td>18.2208</td>\n      <td>-66.5901</td>\n      <td>Puerto Rico, US</td>\n      <td>1/22/20</td>\n      <td>0</td>\n      <td>0</td>\n    </tr>\n    <tr>\n      <th>4</th>\n      <td>850</td>\n      <td>VI</td>\n      <td>VIR</td>\n      <td>850</td>\n      <td>78.0</td>\n      <td>NaN</td>\n      <td>Virgin Islands</td>\n      <td>US</td>\n      <td>18.3358</td>\n      <td>-64.8963</td>\n      <td>Virgin Islands, US</td>\n      <td>1/22/20</td>\n      <td>0</td>\n      <td>0</td>\n    </tr>\n  </tbody>\n</table>\n</div>"
     },
     "metadata": {},
     "execution_count": 7
    }
   ],
   "source": [
    "# Import Kaggle csv file with total cases and deaths by US state and county\n",
    "# Data was downloaded from https://www.kaggle.com/imdevskp/corona-virus-report#usa_county_wise.csv\n",
    "file = \"Data/usa_county_wise.csv\"\n",
    "kaggle_df = pd.read_csv(file)\n",
    "kaggle_df.head()"
   ]
  },
  {
   "cell_type": "code",
   "execution_count": 8,
   "metadata": {},
   "outputs": [],
   "source": [
    "# Only keep rows for US states (i.e. remove Guam, Virgin Islands, etc.)\n",
    "kaggle_us = kaggle_df.loc[kaggle_df[\"iso2\"] == \"US\",:]"
   ]
  },
  {
   "cell_type": "code",
   "execution_count": 9,
   "metadata": {},
   "outputs": [],
   "source": [
    "# Remove columns not needed (UID, iso2(country/territory), iso3(country/territory), & code3)\n",
    "kaggle_rem_cols = kaggle_us[[\"FIPS\", \"Admin2\",\"Province_State\", \"Lat\", \"Long_\", \"Combined_Key\", \"Date\", \"Confirmed\", \"Deaths\"]]"
   ]
  },
  {
   "cell_type": "code",
   "execution_count": 10,
   "metadata": {},
   "outputs": [
    {
     "output_type": "execute_result",
     "data": {
      "text/plain": "      FIPS    County    State        Lat        Lng           Combined_Key  \\\n5   1001.0   Autauga  Alabama  32.539527 -86.644082   Autauga, Alabama, US   \n6   1003.0   Baldwin  Alabama  30.727750 -87.722071   Baldwin, Alabama, US   \n7   1005.0   Barbour  Alabama  31.868263 -85.387129   Barbour, Alabama, US   \n8   1007.0      Bibb  Alabama  32.996421 -87.125115      Bibb, Alabama, US   \n9   1009.0    Blount  Alabama  33.982109 -86.567906    Blount, Alabama, US   \n10  1011.0   Bullock  Alabama  32.100305 -85.712655   Bullock, Alabama, US   \n11  1013.0    Butler  Alabama  31.753001 -86.680575    Butler, Alabama, US   \n12  1015.0   Calhoun  Alabama  33.774837 -85.826304   Calhoun, Alabama, US   \n13  1017.0  Chambers  Alabama  32.913601 -85.390727  Chambers, Alabama, US   \n14  1019.0  Cherokee  Alabama  34.178060 -85.606390  Cherokee, Alabama, US   \n\n       Date  Confirmed  Deaths  \n5   1/22/20          0       0  \n6   1/22/20          0       0  \n7   1/22/20          0       0  \n8   1/22/20          0       0  \n9   1/22/20          0       0  \n10  1/22/20          0       0  \n11  1/22/20          0       0  \n12  1/22/20          0       0  \n13  1/22/20          0       0  \n14  1/22/20          0       0  ",
      "text/html": "<div>\n<style scoped>\n    .dataframe tbody tr th:only-of-type {\n        vertical-align: middle;\n    }\n\n    .dataframe tbody tr th {\n        vertical-align: top;\n    }\n\n    .dataframe thead th {\n        text-align: right;\n    }\n</style>\n<table border=\"1\" class=\"dataframe\">\n  <thead>\n    <tr style=\"text-align: right;\">\n      <th></th>\n      <th>FIPS</th>\n      <th>County</th>\n      <th>State</th>\n      <th>Lat</th>\n      <th>Lng</th>\n      <th>Combined_Key</th>\n      <th>Date</th>\n      <th>Confirmed</th>\n      <th>Deaths</th>\n    </tr>\n  </thead>\n  <tbody>\n    <tr>\n      <th>5</th>\n      <td>1001.0</td>\n      <td>Autauga</td>\n      <td>Alabama</td>\n      <td>32.539527</td>\n      <td>-86.644082</td>\n      <td>Autauga, Alabama, US</td>\n      <td>1/22/20</td>\n      <td>0</td>\n      <td>0</td>\n    </tr>\n    <tr>\n      <th>6</th>\n      <td>1003.0</td>\n      <td>Baldwin</td>\n      <td>Alabama</td>\n      <td>30.727750</td>\n      <td>-87.722071</td>\n      <td>Baldwin, Alabama, US</td>\n      <td>1/22/20</td>\n      <td>0</td>\n      <td>0</td>\n    </tr>\n    <tr>\n      <th>7</th>\n      <td>1005.0</td>\n      <td>Barbour</td>\n      <td>Alabama</td>\n      <td>31.868263</td>\n      <td>-85.387129</td>\n      <td>Barbour, Alabama, US</td>\n      <td>1/22/20</td>\n      <td>0</td>\n      <td>0</td>\n    </tr>\n    <tr>\n      <th>8</th>\n      <td>1007.0</td>\n      <td>Bibb</td>\n      <td>Alabama</td>\n      <td>32.996421</td>\n      <td>-87.125115</td>\n      <td>Bibb, Alabama, US</td>\n      <td>1/22/20</td>\n      <td>0</td>\n      <td>0</td>\n    </tr>\n    <tr>\n      <th>9</th>\n      <td>1009.0</td>\n      <td>Blount</td>\n      <td>Alabama</td>\n      <td>33.982109</td>\n      <td>-86.567906</td>\n      <td>Blount, Alabama, US</td>\n      <td>1/22/20</td>\n      <td>0</td>\n      <td>0</td>\n    </tr>\n    <tr>\n      <th>10</th>\n      <td>1011.0</td>\n      <td>Bullock</td>\n      <td>Alabama</td>\n      <td>32.100305</td>\n      <td>-85.712655</td>\n      <td>Bullock, Alabama, US</td>\n      <td>1/22/20</td>\n      <td>0</td>\n      <td>0</td>\n    </tr>\n    <tr>\n      <th>11</th>\n      <td>1013.0</td>\n      <td>Butler</td>\n      <td>Alabama</td>\n      <td>31.753001</td>\n      <td>-86.680575</td>\n      <td>Butler, Alabama, US</td>\n      <td>1/22/20</td>\n      <td>0</td>\n      <td>0</td>\n    </tr>\n    <tr>\n      <th>12</th>\n      <td>1015.0</td>\n      <td>Calhoun</td>\n      <td>Alabama</td>\n      <td>33.774837</td>\n      <td>-85.826304</td>\n      <td>Calhoun, Alabama, US</td>\n      <td>1/22/20</td>\n      <td>0</td>\n      <td>0</td>\n    </tr>\n    <tr>\n      <th>13</th>\n      <td>1017.0</td>\n      <td>Chambers</td>\n      <td>Alabama</td>\n      <td>32.913601</td>\n      <td>-85.390727</td>\n      <td>Chambers, Alabama, US</td>\n      <td>1/22/20</td>\n      <td>0</td>\n      <td>0</td>\n    </tr>\n    <tr>\n      <th>14</th>\n      <td>1019.0</td>\n      <td>Cherokee</td>\n      <td>Alabama</td>\n      <td>34.178060</td>\n      <td>-85.606390</td>\n      <td>Cherokee, Alabama, US</td>\n      <td>1/22/20</td>\n      <td>0</td>\n      <td>0</td>\n    </tr>\n  </tbody>\n</table>\n</div>"
     },
     "metadata": {},
     "execution_count": 10
    }
   ],
   "source": [
    "# Rename columns (Admin 2 to County, Province_State to State, Long_ to Lng)\n",
    "kaggle_renamed = kaggle_rem_cols.rename(columns={\"Admin2\":\"County\", \"Province_State\":\"State\", \"Long_\":\"Lng\"})\n",
    "kaggle_renamed.head(10)"
   ]
  },
  {
   "cell_type": "code",
   "execution_count": 11,
   "metadata": {},
   "outputs": [],
   "source": [
    "# Export kaggle df as a csv so it can be imported to postgres\n",
    "kaggle_renamed.to_csv(\"totals_cases_deaths.csv\", encoding=\"utf-8\", index=False)"
   ]
  },
  {
   "cell_type": "markdown",
   "metadata": {},
   "source": [
    "#Import csv with COVID forecast by state"
   ]
  },
  {
   "cell_type": "code",
   "execution_count": 13,
   "metadata": {},
   "outputs": [
    {
     "output_type": "execute_result",
     "data": {
      "text/plain": "     model forecast_date                target target_week_end_date  \\\n1325  MOBS     4/13/2020  2 wk ahead cum death            4/25/2020   \n1326  MOBS     4/13/2020  2 wk ahead cum death            4/25/2020   \n1327  MOBS     4/13/2020  2 wk ahead cum death            4/25/2020   \n1328  MOBS     4/13/2020  2 wk ahead cum death            4/25/2020   \n1329  MOBS     4/13/2020  2 wk ahead cum death            4/25/2020   \n\n      location_name  point  quantile_0.025  quantile_0.975  \n1325     Washington    939             NaN             NaN  \n1326      Wisconsin    199             NaN             NaN  \n1327  West Virginia     13             NaN             NaN  \n1328        Wyoming     15             NaN             NaN  \n1329             US  46548             NaN             NaN  ",
      "text/html": "<div>\n<style scoped>\n    .dataframe tbody tr th:only-of-type {\n        vertical-align: middle;\n    }\n\n    .dataframe tbody tr th {\n        vertical-align: top;\n    }\n\n    .dataframe thead th {\n        text-align: right;\n    }\n</style>\n<table border=\"1\" class=\"dataframe\">\n  <thead>\n    <tr style=\"text-align: right;\">\n      <th></th>\n      <th>model</th>\n      <th>forecast_date</th>\n      <th>target</th>\n      <th>target_week_end_date</th>\n      <th>location_name</th>\n      <th>point</th>\n      <th>quantile_0.025</th>\n      <th>quantile_0.975</th>\n    </tr>\n  </thead>\n  <tbody>\n    <tr>\n      <th>1325</th>\n      <td>MOBS</td>\n      <td>4/13/2020</td>\n      <td>2 wk ahead cum death</td>\n      <td>4/25/2020</td>\n      <td>Washington</td>\n      <td>939</td>\n      <td>NaN</td>\n      <td>NaN</td>\n    </tr>\n    <tr>\n      <th>1326</th>\n      <td>MOBS</td>\n      <td>4/13/2020</td>\n      <td>2 wk ahead cum death</td>\n      <td>4/25/2020</td>\n      <td>Wisconsin</td>\n      <td>199</td>\n      <td>NaN</td>\n      <td>NaN</td>\n    </tr>\n    <tr>\n      <th>1327</th>\n      <td>MOBS</td>\n      <td>4/13/2020</td>\n      <td>2 wk ahead cum death</td>\n      <td>4/25/2020</td>\n      <td>West Virginia</td>\n      <td>13</td>\n      <td>NaN</td>\n      <td>NaN</td>\n    </tr>\n    <tr>\n      <th>1328</th>\n      <td>MOBS</td>\n      <td>4/13/2020</td>\n      <td>2 wk ahead cum death</td>\n      <td>4/25/2020</td>\n      <td>Wyoming</td>\n      <td>15</td>\n      <td>NaN</td>\n      <td>NaN</td>\n    </tr>\n    <tr>\n      <th>1329</th>\n      <td>MOBS</td>\n      <td>4/13/2020</td>\n      <td>2 wk ahead cum death</td>\n      <td>4/25/2020</td>\n      <td>US</td>\n      <td>46548</td>\n      <td>NaN</td>\n      <td>NaN</td>\n    </tr>\n  </tbody>\n</table>\n</div>"
     },
     "metadata": {},
     "execution_count": 13
    }
   ],
   "source": [
    "# Import csv file with forecast of potential deaths by state\n",
    "# Data was downloaded from https://www.cdc.gov/coronavirus/2019-ncov/covid-data/forecasting-us.html\n",
    "file2 = \"Data/forecast_data_0413.csv\"\n",
    "forecast_raw = pd.read_csv(file2)\n",
    "forecast_raw.tail()"
   ]
  },
  {
   "cell_type": "code",
   "execution_count": 15,
   "metadata": {},
   "outputs": [
    {
     "output_type": "execute_result",
     "data": {
      "text/plain": "               model forecast_date                target target_week_end_date  \\\n4  ensemble forecast     4/13/2020  1 wk ahead cum death            4/18/2020   \n5  ensemble forecast     4/13/2020  2 wk ahead cum death            4/25/2020   \n6  ensemble forecast     4/13/2020  3 wk ahead cum death             5/2/2020   \n7  ensemble forecast     4/13/2020  4 wk ahead cum death             5/9/2020   \n8  ensemble forecast     4/13/2020  1 wk ahead cum death            4/18/2020   \n\n  location_name  point  quantile_0.025  quantile_0.975  \n4       Alabama    152           102.0           325.0  \n5       Alabama    243           116.0           676.0  \n6       Alabama    339           131.0          1151.0  \n7       Alabama    428           142.0          1836.0  \n8      Delaware     52            36.0           146.0  ",
      "text/html": "<div>\n<style scoped>\n    .dataframe tbody tr th:only-of-type {\n        vertical-align: middle;\n    }\n\n    .dataframe tbody tr th {\n        vertical-align: top;\n    }\n\n    .dataframe thead th {\n        text-align: right;\n    }\n</style>\n<table border=\"1\" class=\"dataframe\">\n  <thead>\n    <tr style=\"text-align: right;\">\n      <th></th>\n      <th>model</th>\n      <th>forecast_date</th>\n      <th>target</th>\n      <th>target_week_end_date</th>\n      <th>location_name</th>\n      <th>point</th>\n      <th>quantile_0.025</th>\n      <th>quantile_0.975</th>\n    </tr>\n  </thead>\n  <tbody>\n    <tr>\n      <th>4</th>\n      <td>ensemble forecast</td>\n      <td>4/13/2020</td>\n      <td>1 wk ahead cum death</td>\n      <td>4/18/2020</td>\n      <td>Alabama</td>\n      <td>152</td>\n      <td>102.0</td>\n      <td>325.0</td>\n    </tr>\n    <tr>\n      <th>5</th>\n      <td>ensemble forecast</td>\n      <td>4/13/2020</td>\n      <td>2 wk ahead cum death</td>\n      <td>4/25/2020</td>\n      <td>Alabama</td>\n      <td>243</td>\n      <td>116.0</td>\n      <td>676.0</td>\n    </tr>\n    <tr>\n      <th>6</th>\n      <td>ensemble forecast</td>\n      <td>4/13/2020</td>\n      <td>3 wk ahead cum death</td>\n      <td>5/2/2020</td>\n      <td>Alabama</td>\n      <td>339</td>\n      <td>131.0</td>\n      <td>1151.0</td>\n    </tr>\n    <tr>\n      <th>7</th>\n      <td>ensemble forecast</td>\n      <td>4/13/2020</td>\n      <td>4 wk ahead cum death</td>\n      <td>5/9/2020</td>\n      <td>Alabama</td>\n      <td>428</td>\n      <td>142.0</td>\n      <td>1836.0</td>\n    </tr>\n    <tr>\n      <th>8</th>\n      <td>ensemble forecast</td>\n      <td>4/13/2020</td>\n      <td>1 wk ahead cum death</td>\n      <td>4/18/2020</td>\n      <td>Delaware</td>\n      <td>52</td>\n      <td>36.0</td>\n      <td>146.0</td>\n    </tr>\n  </tbody>\n</table>\n</div>"
     },
     "metadata": {},
     "execution_count": 15
    }
   ],
   "source": [
    "# Only keep rows for states, not whole of US\n",
    "forecast_states = forecast_raw.loc[forecast_raw[\"location_name\"] != \"US\",:]\n",
    "forecast_states.head()"
   ]
  },
  {
   "cell_type": "code",
   "execution_count": 17,
   "metadata": {},
   "outputs": [
    {
     "output_type": "execute_result",
     "data": {
      "text/plain": "model                   1220\nforecast_date           1220\ntarget                  1220\ntarget_week_end_date    1220\nlocation_name           1220\npoint                   1220\nquantile_0.025          1220\nquantile_0.975          1220\ndtype: int64"
     },
     "metadata": {},
     "execution_count": 17
    }
   ],
   "source": [
    "# Drop rows with missing data\n",
    "forecast_states = forecast_states.dropna()\n",
    "forecast_states.count()"
   ]
  },
  {
   "cell_type": "code",
   "execution_count": 20,
   "metadata": {},
   "outputs": [
    {
     "output_type": "execute_result",
     "data": {
      "text/plain": "                         model forecast_date                target  \\\n1018                      IHME     4/13/2020  3 wk ahead cum death   \n1237                      LANL     4/13/2020  4 wk ahead cum death   \n400   CU 40% contact reduction     4/13/2020  4 wk ahead cum death   \n586   CU 30% contact reduction     4/13/2020  4 wk ahead cum death   \n105          ensemble forecast     4/13/2020  2 wk ahead cum death   \n1051                      LANL     4/13/2020  1 wk ahead cum death   \n67           ensemble forecast     4/13/2020  4 wk ahead cum death   \n641   CU 20% contact reduction     4/13/2020  1 wk ahead cum death   \n465   CU 30% contact reduction     4/13/2020  2 wk ahead cum death   \n418   CU 30% contact reduction     4/13/2020  1 wk ahead cum death   \n\n     target_end_date          state  actual  quantile_0.025  quantile_0.975  \n1018        5/2/2020       Colorado     444           334.0           670.0  \n1237        5/9/2020  West Virginia      17             6.0           179.0  \n400         5/9/2020       Missouri     451           185.0          1146.0  \n586         5/9/2020           Iowa     284            43.0          1768.0  \n105        4/25/2020     New Jersey    4717          3001.0          9820.0  \n1051       4/18/2020      Minnesota     108            77.0           226.0  \n67          5/9/2020       Maryland    1015           369.0          4527.0  \n641        4/18/2020        Montana      32             6.0            77.0  \n465        4/25/2020        Arizona     541           172.0          1098.0  \n418        4/18/2020    Connecticut     602           314.0          1139.0  ",
      "text/html": "<div>\n<style scoped>\n    .dataframe tbody tr th:only-of-type {\n        vertical-align: middle;\n    }\n\n    .dataframe tbody tr th {\n        vertical-align: top;\n    }\n\n    .dataframe thead th {\n        text-align: right;\n    }\n</style>\n<table border=\"1\" class=\"dataframe\">\n  <thead>\n    <tr style=\"text-align: right;\">\n      <th></th>\n      <th>model</th>\n      <th>forecast_date</th>\n      <th>target</th>\n      <th>target_end_date</th>\n      <th>state</th>\n      <th>actual</th>\n      <th>quantile_0.025</th>\n      <th>quantile_0.975</th>\n    </tr>\n  </thead>\n  <tbody>\n    <tr>\n      <th>1018</th>\n      <td>IHME</td>\n      <td>4/13/2020</td>\n      <td>3 wk ahead cum death</td>\n      <td>5/2/2020</td>\n      <td>Colorado</td>\n      <td>444</td>\n      <td>334.0</td>\n      <td>670.0</td>\n    </tr>\n    <tr>\n      <th>1237</th>\n      <td>LANL</td>\n      <td>4/13/2020</td>\n      <td>4 wk ahead cum death</td>\n      <td>5/9/2020</td>\n      <td>West Virginia</td>\n      <td>17</td>\n      <td>6.0</td>\n      <td>179.0</td>\n    </tr>\n    <tr>\n      <th>400</th>\n      <td>CU 40% contact reduction</td>\n      <td>4/13/2020</td>\n      <td>4 wk ahead cum death</td>\n      <td>5/9/2020</td>\n      <td>Missouri</td>\n      <td>451</td>\n      <td>185.0</td>\n      <td>1146.0</td>\n    </tr>\n    <tr>\n      <th>586</th>\n      <td>CU 30% contact reduction</td>\n      <td>4/13/2020</td>\n      <td>4 wk ahead cum death</td>\n      <td>5/9/2020</td>\n      <td>Iowa</td>\n      <td>284</td>\n      <td>43.0</td>\n      <td>1768.0</td>\n    </tr>\n    <tr>\n      <th>105</th>\n      <td>ensemble forecast</td>\n      <td>4/13/2020</td>\n      <td>2 wk ahead cum death</td>\n      <td>4/25/2020</td>\n      <td>New Jersey</td>\n      <td>4717</td>\n      <td>3001.0</td>\n      <td>9820.0</td>\n    </tr>\n    <tr>\n      <th>1051</th>\n      <td>LANL</td>\n      <td>4/13/2020</td>\n      <td>1 wk ahead cum death</td>\n      <td>4/18/2020</td>\n      <td>Minnesota</td>\n      <td>108</td>\n      <td>77.0</td>\n      <td>226.0</td>\n    </tr>\n    <tr>\n      <th>67</th>\n      <td>ensemble forecast</td>\n      <td>4/13/2020</td>\n      <td>4 wk ahead cum death</td>\n      <td>5/9/2020</td>\n      <td>Maryland</td>\n      <td>1015</td>\n      <td>369.0</td>\n      <td>4527.0</td>\n    </tr>\n    <tr>\n      <th>641</th>\n      <td>CU 20% contact reduction</td>\n      <td>4/13/2020</td>\n      <td>1 wk ahead cum death</td>\n      <td>4/18/2020</td>\n      <td>Montana</td>\n      <td>32</td>\n      <td>6.0</td>\n      <td>77.0</td>\n    </tr>\n    <tr>\n      <th>465</th>\n      <td>CU 30% contact reduction</td>\n      <td>4/13/2020</td>\n      <td>2 wk ahead cum death</td>\n      <td>4/25/2020</td>\n      <td>Arizona</td>\n      <td>541</td>\n      <td>172.0</td>\n      <td>1098.0</td>\n    </tr>\n    <tr>\n      <th>418</th>\n      <td>CU 30% contact reduction</td>\n      <td>4/13/2020</td>\n      <td>1 wk ahead cum death</td>\n      <td>4/18/2020</td>\n      <td>Connecticut</td>\n      <td>602</td>\n      <td>314.0</td>\n      <td>1139.0</td>\n    </tr>\n  </tbody>\n</table>\n</div>"
     },
     "metadata": {},
     "execution_count": 20
    }
   ],
   "source": [
    "# Rename columns (target week end date to target end date, location name to state, point to actual)\n",
    "forecast_renamed = forecast_states.rename(columns={\"target_week_end_date\":\"target_end_date\", \"location_name\":\"state\", \"point\":\"actual\"})\n",
    "forecast_renamed.sample(10)"
   ]
  },
  {
   "cell_type": "code",
   "execution_count": 21,
   "metadata": {},
   "outputs": [],
   "source": [
    "# Export forecast df as a csv so it can be imported to postgres\n",
    "forecast_renamed.to_csv(\"forecast.csv\", encoding=\"utf-8\", index=False)"
   ]
  },
  {
   "cell_type": "code",
   "execution_count": null,
   "metadata": {},
   "outputs": [],
   "source": []
  }
 ],
 "metadata": {
  "language_info": {
   "name": "python",
   "codemirror_mode": {
    "name": "ipython",
    "version": 3
   },
   "version": "3.6.10-final"
  },
  "orig_nbformat": 2,
  "file_extension": ".py",
  "mimetype": "text/x-python",
  "name": "python",
  "npconvert_exporter": "python",
  "pygments_lexer": "ipython3",
  "version": 3,
  "kernelspec": {
   "name": "python37664bitpythondataconda7b76faf93e6a485bb209245349a7d6ad",
   "display_name": "Python 3.7.6 64-bit ('PythonData': conda)"
  }
 },
 "nbformat": 4,
 "nbformat_minor": 2
}