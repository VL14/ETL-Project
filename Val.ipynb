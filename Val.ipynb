{
 "cells": [
  {
   "cell_type": "code",
   "execution_count": 6,
   "metadata": {},
   "outputs": [],
   "source": [
    "import pandas as pd \n",
    "import csv  "
   ]
  },
  {
   "cell_type": "markdown",
   "metadata": {},
   "source": [
    "# Import Kaggle CSV With Cases & Deaths By State #"
   ]
  },
  {
   "cell_type": "code",
   "execution_count": 7,
   "metadata": {},
   "outputs": [
    {
     "output_type": "execute_result",
     "data": {
      "text/plain": "   UID iso2 iso3  code3  FIPS Admin2            Province_State Country_Region  \\\n0   16   AS  ASM     16  60.0    NaN            American Samoa             US   \n1  316   GU  GUM    316  66.0    NaN                      Guam             US   \n2  580   MP  MNP    580  69.0    NaN  Northern Mariana Islands             US   \n3  630   PR  PRI    630  72.0    NaN               Puerto Rico             US   \n4  850   VI  VIR    850  78.0    NaN            Virgin Islands             US   \n\n       Lat     Long_                  Combined_Key     Date  Confirmed  Deaths  \n0 -14.2710 -170.1320            American Samoa, US  1/22/20          0       0  \n1  13.4443  144.7937                      Guam, US  1/22/20          0       0  \n2  15.0979  145.6739  Northern Mariana Islands, US  1/22/20          0       0  \n3  18.2208  -66.5901               Puerto Rico, US  1/22/20          0       0  \n4  18.3358  -64.8963            Virgin Islands, US  1/22/20          0       0  ",
      "text/html": "<div>\n<style scoped>\n    .dataframe tbody tr th:only-of-type {\n        vertical-align: middle;\n    }\n\n    .dataframe tbody tr th {\n        vertical-align: top;\n    }\n\n    .dataframe thead th {\n        text-align: right;\n    }\n</style>\n<table border=\"1\" class=\"dataframe\">\n  <thead>\n    <tr style=\"text-align: right;\">\n      <th></th>\n      <th>UID</th>\n      <th>iso2</th>\n      <th>iso3</th>\n      <th>code3</th>\n      <th>FIPS</th>\n      <th>Admin2</th>\n      <th>Province_State</th>\n      <th>Country_Region</th>\n      <th>Lat</th>\n      <th>Long_</th>\n      <th>Combined_Key</th>\n      <th>Date</th>\n      <th>Confirmed</th>\n      <th>Deaths</th>\n    </tr>\n  </thead>\n  <tbody>\n    <tr>\n      <th>0</th>\n      <td>16</td>\n      <td>AS</td>\n      <td>ASM</td>\n      <td>16</td>\n      <td>60.0</td>\n      <td>NaN</td>\n      <td>American Samoa</td>\n      <td>US</td>\n      <td>-14.2710</td>\n      <td>-170.1320</td>\n      <td>American Samoa, US</td>\n      <td>1/22/20</td>\n      <td>0</td>\n      <td>0</td>\n    </tr>\n    <tr>\n      <th>1</th>\n      <td>316</td>\n      <td>GU</td>\n      <td>GUM</td>\n      <td>316</td>\n      <td>66.0</td>\n      <td>NaN</td>\n      <td>Guam</td>\n      <td>US</td>\n      <td>13.4443</td>\n      <td>144.7937</td>\n      <td>Guam, US</td>\n      <td>1/22/20</td>\n      <td>0</td>\n      <td>0</td>\n    </tr>\n    <tr>\n      <th>2</th>\n      <td>580</td>\n      <td>MP</td>\n      <td>MNP</td>\n      <td>580</td>\n      <td>69.0</td>\n      <td>NaN</td>\n      <td>Northern Mariana Islands</td>\n      <td>US</td>\n      <td>15.0979</td>\n      <td>145.6739</td>\n      <td>Northern Mariana Islands, US</td>\n      <td>1/22/20</td>\n      <td>0</td>\n      <td>0</td>\n    </tr>\n    <tr>\n      <th>3</th>\n      <td>630</td>\n      <td>PR</td>\n      <td>PRI</td>\n      <td>630</td>\n      <td>72.0</td>\n      <td>NaN</td>\n      <td>Puerto Rico</td>\n      <td>US</td>\n      <td>18.2208</td>\n      <td>-66.5901</td>\n      <td>Puerto Rico, US</td>\n      <td>1/22/20</td>\n      <td>0</td>\n      <td>0</td>\n    </tr>\n    <tr>\n      <th>4</th>\n      <td>850</td>\n      <td>VI</td>\n      <td>VIR</td>\n      <td>850</td>\n      <td>78.0</td>\n      <td>NaN</td>\n      <td>Virgin Islands</td>\n      <td>US</td>\n      <td>18.3358</td>\n      <td>-64.8963</td>\n      <td>Virgin Islands, US</td>\n      <td>1/22/20</td>\n      <td>0</td>\n      <td>0</td>\n    </tr>\n  </tbody>\n</table>\n</div>"
     },
     "metadata": {},
     "execution_count": 7
    }
   ],
   "source": [
    "# Import Kaggle csv file with total cases and deaths by US state and county\n",
    "# Data was downloaded from https://www.kaggle.com/imdevskp/corona-virus-report#usa_county_wise.csv\n",
    "file = \"Data/usa_county_wise.csv\"\n",
    "kaggle_df = pd.read_csv(file)\n",
    "kaggle_df.head()"
   ]
  },
  {
   "cell_type": "code",
   "execution_count": 8,
   "metadata": {},
   "outputs": [],
   "source": [
    "# Only keep rows for US states (i.e. remove Guam, Virgin Islands, etc.)\n",
    "kaggle_us = kaggle_df.loc[kaggle_df[\"iso2\"] == \"US\",:]"
   ]
  },
  {
   "cell_type": "code",
   "execution_count": 9,
   "metadata": {},
   "outputs": [],
   "source": [
    "# Remove columns not needed (UID, iso2(country/territory), iso3(country/territory), & code3)\n",
    "kaggle_rem_cols = kaggle_us[[\"FIPS\", \"Admin2\",\"Province_State\", \"Lat\", \"Long_\", \"Combined_Key\", \"Date\", \"Confirmed\", \"Deaths\"]]"
   ]
  },
  {
   "cell_type": "code",
   "execution_count": 33,
   "metadata": {},
   "outputs": [
    {
     "output_type": "execute_result",
     "data": {
      "text/plain": "           FIPS        County         State        Lat         Lng  \\\n184097  35031.0      McKinley    New Mexico  35.580077 -108.262245   \n217659  51009.0       Amherst      Virginia  37.603083  -79.145487   \n43613   26125.0       Oakland      Michigan  42.660901  -83.385954   \n71200   51041.0  Chesterfield      Virginia  37.373732  -77.586801   \n193424  27121.0          Pope     Minnesota  45.586067  -95.444512   \n198847   8085.0      Montrose      Colorado  38.402141 -108.263902   \n27646   30007.0    Broadwater       Montana  46.332776 -111.495581   \n91456    9007.0     Middlesex   Connecticut  41.459497  -72.537149   \n61940    2230.0       Skagway        Alaska  59.561500 -135.333775   \n208330   1011.0       Bullock       Alabama  32.100305  -85.712655   \n1731    31145.0    Red Willow      Nebraska  40.175569 -100.476998   \n2158    40045.0         Ellis      Oklahoma  36.218019  -99.753246   \n189833  21091.0       Hancock      Kentucky  37.837664  -86.782806   \n111864  23025.0      Somerset         Maine  45.512298  -69.959956   \n21796   42035.0       Clinton  Pennsylvania  41.232560  -77.637860   \n\n                      Combined_Key     Date  Confirmed  Deaths  \n184097    McKinley, New Mexico, US  3/18/20          0       0  \n217659       Amherst, Virginia, US  3/28/20          2       0  \n43613        Oakland, Michigan, US   2/4/20          0       0  \n71200   Chesterfield, Virginia, US  2/12/20          0       0  \n193424         Pope, Minnesota, US  3/21/20          0       0  \n198847      Montrose, Colorado, US  3/23/20          1       0  \n27646      Broadwater, Montana, US  1/30/20          0       0  \n91456   Middlesex, Connecticut, US  2/19/20          0       0  \n61940          Skagway, Alaska, US  2/10/20          0       0  \n208330        Bullock, Alabama, US  3/26/20          2       0  \n1731      Red Willow, Nebraska, US  1/22/20          0       0  \n2158           Ellis, Oklahoma, US  1/22/20          0       0  \n189833       Hancock, Kentucky, US  3/20/20          0       0  \n111864         Somerset, Maine, US  2/25/20          0       0  \n21796    Clinton, Pennsylvania, US  1/28/20          0       0  ",
      "text/html": "<div>\n<style scoped>\n    .dataframe tbody tr th:only-of-type {\n        vertical-align: middle;\n    }\n\n    .dataframe tbody tr th {\n        vertical-align: top;\n    }\n\n    .dataframe thead th {\n        text-align: right;\n    }\n</style>\n<table border=\"1\" class=\"dataframe\">\n  <thead>\n    <tr style=\"text-align: right;\">\n      <th></th>\n      <th>FIPS</th>\n      <th>County</th>\n      <th>State</th>\n      <th>Lat</th>\n      <th>Lng</th>\n      <th>Combined_Key</th>\n      <th>Date</th>\n      <th>Confirmed</th>\n      <th>Deaths</th>\n    </tr>\n  </thead>\n  <tbody>\n    <tr>\n      <th>184097</th>\n      <td>35031.0</td>\n      <td>McKinley</td>\n      <td>New Mexico</td>\n      <td>35.580077</td>\n      <td>-108.262245</td>\n      <td>McKinley, New Mexico, US</td>\n      <td>3/18/20</td>\n      <td>0</td>\n      <td>0</td>\n    </tr>\n    <tr>\n      <th>217659</th>\n      <td>51009.0</td>\n      <td>Amherst</td>\n      <td>Virginia</td>\n      <td>37.603083</td>\n      <td>-79.145487</td>\n      <td>Amherst, Virginia, US</td>\n      <td>3/28/20</td>\n      <td>2</td>\n      <td>0</td>\n    </tr>\n    <tr>\n      <th>43613</th>\n      <td>26125.0</td>\n      <td>Oakland</td>\n      <td>Michigan</td>\n      <td>42.660901</td>\n      <td>-83.385954</td>\n      <td>Oakland, Michigan, US</td>\n      <td>2/4/20</td>\n      <td>0</td>\n      <td>0</td>\n    </tr>\n    <tr>\n      <th>71200</th>\n      <td>51041.0</td>\n      <td>Chesterfield</td>\n      <td>Virginia</td>\n      <td>37.373732</td>\n      <td>-77.586801</td>\n      <td>Chesterfield, Virginia, US</td>\n      <td>2/12/20</td>\n      <td>0</td>\n      <td>0</td>\n    </tr>\n    <tr>\n      <th>193424</th>\n      <td>27121.0</td>\n      <td>Pope</td>\n      <td>Minnesota</td>\n      <td>45.586067</td>\n      <td>-95.444512</td>\n      <td>Pope, Minnesota, US</td>\n      <td>3/21/20</td>\n      <td>0</td>\n      <td>0</td>\n    </tr>\n    <tr>\n      <th>198847</th>\n      <td>8085.0</td>\n      <td>Montrose</td>\n      <td>Colorado</td>\n      <td>38.402141</td>\n      <td>-108.263902</td>\n      <td>Montrose, Colorado, US</td>\n      <td>3/23/20</td>\n      <td>1</td>\n      <td>0</td>\n    </tr>\n    <tr>\n      <th>27646</th>\n      <td>30007.0</td>\n      <td>Broadwater</td>\n      <td>Montana</td>\n      <td>46.332776</td>\n      <td>-111.495581</td>\n      <td>Broadwater, Montana, US</td>\n      <td>1/30/20</td>\n      <td>0</td>\n      <td>0</td>\n    </tr>\n    <tr>\n      <th>91456</th>\n      <td>9007.0</td>\n      <td>Middlesex</td>\n      <td>Connecticut</td>\n      <td>41.459497</td>\n      <td>-72.537149</td>\n      <td>Middlesex, Connecticut, US</td>\n      <td>2/19/20</td>\n      <td>0</td>\n      <td>0</td>\n    </tr>\n    <tr>\n      <th>61940</th>\n      <td>2230.0</td>\n      <td>Skagway</td>\n      <td>Alaska</td>\n      <td>59.561500</td>\n      <td>-135.333775</td>\n      <td>Skagway, Alaska, US</td>\n      <td>2/10/20</td>\n      <td>0</td>\n      <td>0</td>\n    </tr>\n    <tr>\n      <th>208330</th>\n      <td>1011.0</td>\n      <td>Bullock</td>\n      <td>Alabama</td>\n      <td>32.100305</td>\n      <td>-85.712655</td>\n      <td>Bullock, Alabama, US</td>\n      <td>3/26/20</td>\n      <td>2</td>\n      <td>0</td>\n    </tr>\n    <tr>\n      <th>1731</th>\n      <td>31145.0</td>\n      <td>Red Willow</td>\n      <td>Nebraska</td>\n      <td>40.175569</td>\n      <td>-100.476998</td>\n      <td>Red Willow, Nebraska, US</td>\n      <td>1/22/20</td>\n      <td>0</td>\n      <td>0</td>\n    </tr>\n    <tr>\n      <th>2158</th>\n      <td>40045.0</td>\n      <td>Ellis</td>\n      <td>Oklahoma</td>\n      <td>36.218019</td>\n      <td>-99.753246</td>\n      <td>Ellis, Oklahoma, US</td>\n      <td>1/22/20</td>\n      <td>0</td>\n      <td>0</td>\n    </tr>\n    <tr>\n      <th>189833</th>\n      <td>21091.0</td>\n      <td>Hancock</td>\n      <td>Kentucky</td>\n      <td>37.837664</td>\n      <td>-86.782806</td>\n      <td>Hancock, Kentucky, US</td>\n      <td>3/20/20</td>\n      <td>0</td>\n      <td>0</td>\n    </tr>\n    <tr>\n      <th>111864</th>\n      <td>23025.0</td>\n      <td>Somerset</td>\n      <td>Maine</td>\n      <td>45.512298</td>\n      <td>-69.959956</td>\n      <td>Somerset, Maine, US</td>\n      <td>2/25/20</td>\n      <td>0</td>\n      <td>0</td>\n    </tr>\n    <tr>\n      <th>21796</th>\n      <td>42035.0</td>\n      <td>Clinton</td>\n      <td>Pennsylvania</td>\n      <td>41.232560</td>\n      <td>-77.637860</td>\n      <td>Clinton, Pennsylvania, US</td>\n      <td>1/28/20</td>\n      <td>0</td>\n      <td>0</td>\n    </tr>\n  </tbody>\n</table>\n</div>"
     },
     "metadata": {},
     "execution_count": 33
    }
   ],
   "source": [
    "# Rename columns (Admin 2 to County, Province_State to State, Long_ to Lng)\n",
    "kaggle_renamed = kaggle_rem_cols.rename(columns={\"Admin2\":\"County\", \"Province_State\":\"State\", \"Long_\":\"Lng\"})\n",
    "kaggle_renamed.sample(15)"
   ]
  },
  {
   "cell_type": "code",
   "execution_count": 34,
   "metadata": {},
   "outputs": [
    {
     "output_type": "execute_result",
     "data": {
      "text/plain": "FIPS            float64\nCounty           object\nState            object\nLat             float64\nLng             float64\nCombined_Key     object\nDate             object\nConfirmed         int64\nDeaths            int64\ndtype: object"
     },
     "metadata": {},
     "execution_count": 34
    }
   ],
   "source": [
    "# Check if date column date are strings or date objects\n",
    "kaggle_renamed.dtypes"
   ]
  },
  {
   "cell_type": "code",
   "execution_count": 37,
   "metadata": {},
   "outputs": [],
   "source": [
    "# Change dates from strings to datetime objects\n",
    "kaggle_renamed['Date'] = pd.to_datetime(kaggle_renamed['Date'],format='%m/%d/%y')"
   ]
  },
  {
   "cell_type": "code",
   "execution_count": 38,
   "metadata": {},
   "outputs": [
    {
     "output_type": "execute_result",
     "data": {
      "text/plain": "FIPS                   float64\nCounty                  object\nState                   object\nLat                    float64\nLng                    float64\nCombined_Key            object\nDate            datetime64[ns]\nConfirmed                int64\nDeaths                   int64\ndtype: object"
     },
     "metadata": {},
     "execution_count": 38
    }
   ],
   "source": [
    "# Check that column type change\n",
    "kaggle_renamed.dtypes"
   ]
  },
  {
   "cell_type": "code",
   "execution_count": 39,
   "metadata": {},
   "outputs": [],
   "source": [
    "# Export kaggle df as a csv so it can be imported to postgres\n",
    "kaggle_renamed.to_csv(\"totals_cases_deaths.csv\", encoding=\"utf-8\", index=False)"
   ]
  },
  {
   "cell_type": "markdown",
   "metadata": {},
   "source": [
    "# Import CDC CSV With COVID Forecasts By State #"
   ]
  },
  {
   "cell_type": "code",
   "execution_count": 13,
   "metadata": {},
   "outputs": [
    {
     "output_type": "execute_result",
     "data": {
      "text/plain": "     model forecast_date                target target_week_end_date  \\\n1325  MOBS     4/13/2020  2 wk ahead cum death            4/25/2020   \n1326  MOBS     4/13/2020  2 wk ahead cum death            4/25/2020   \n1327  MOBS     4/13/2020  2 wk ahead cum death            4/25/2020   \n1328  MOBS     4/13/2020  2 wk ahead cum death            4/25/2020   \n1329  MOBS     4/13/2020  2 wk ahead cum death            4/25/2020   \n\n      location_name  point  quantile_0.025  quantile_0.975  \n1325     Washington    939             NaN             NaN  \n1326      Wisconsin    199             NaN             NaN  \n1327  West Virginia     13             NaN             NaN  \n1328        Wyoming     15             NaN             NaN  \n1329             US  46548             NaN             NaN  ",
      "text/html": "<div>\n<style scoped>\n    .dataframe tbody tr th:only-of-type {\n        vertical-align: middle;\n    }\n\n    .dataframe tbody tr th {\n        vertical-align: top;\n    }\n\n    .dataframe thead th {\n        text-align: right;\n    }\n</style>\n<table border=\"1\" class=\"dataframe\">\n  <thead>\n    <tr style=\"text-align: right;\">\n      <th></th>\n      <th>model</th>\n      <th>forecast_date</th>\n      <th>target</th>\n      <th>target_week_end_date</th>\n      <th>location_name</th>\n      <th>point</th>\n      <th>quantile_0.025</th>\n      <th>quantile_0.975</th>\n    </tr>\n  </thead>\n  <tbody>\n    <tr>\n      <th>1325</th>\n      <td>MOBS</td>\n      <td>4/13/2020</td>\n      <td>2 wk ahead cum death</td>\n      <td>4/25/2020</td>\n      <td>Washington</td>\n      <td>939</td>\n      <td>NaN</td>\n      <td>NaN</td>\n    </tr>\n    <tr>\n      <th>1326</th>\n      <td>MOBS</td>\n      <td>4/13/2020</td>\n      <td>2 wk ahead cum death</td>\n      <td>4/25/2020</td>\n      <td>Wisconsin</td>\n      <td>199</td>\n      <td>NaN</td>\n      <td>NaN</td>\n    </tr>\n    <tr>\n      <th>1327</th>\n      <td>MOBS</td>\n      <td>4/13/2020</td>\n      <td>2 wk ahead cum death</td>\n      <td>4/25/2020</td>\n      <td>West Virginia</td>\n      <td>13</td>\n      <td>NaN</td>\n      <td>NaN</td>\n    </tr>\n    <tr>\n      <th>1328</th>\n      <td>MOBS</td>\n      <td>4/13/2020</td>\n      <td>2 wk ahead cum death</td>\n      <td>4/25/2020</td>\n      <td>Wyoming</td>\n      <td>15</td>\n      <td>NaN</td>\n      <td>NaN</td>\n    </tr>\n    <tr>\n      <th>1329</th>\n      <td>MOBS</td>\n      <td>4/13/2020</td>\n      <td>2 wk ahead cum death</td>\n      <td>4/25/2020</td>\n      <td>US</td>\n      <td>46548</td>\n      <td>NaN</td>\n      <td>NaN</td>\n    </tr>\n  </tbody>\n</table>\n</div>"
     },
     "metadata": {},
     "execution_count": 13
    }
   ],
   "source": [
    "# Import csv file with forecast of potential deaths by state\n",
    "# Data was downloaded from https://www.cdc.gov/coronavirus/2019-ncov/covid-data/forecasting-us.html\n",
    "file2 = \"Data/forecast_data_0413.csv\"\n",
    "forecast_raw = pd.read_csv(file2)\n",
    "forecast_raw.tail()"
   ]
  },
  {
   "cell_type": "code",
   "execution_count": 15,
   "metadata": {},
   "outputs": [
    {
     "output_type": "execute_result",
     "data": {
      "text/plain": "               model forecast_date                target target_week_end_date  \\\n4  ensemble forecast     4/13/2020  1 wk ahead cum death            4/18/2020   \n5  ensemble forecast     4/13/2020  2 wk ahead cum death            4/25/2020   \n6  ensemble forecast     4/13/2020  3 wk ahead cum death             5/2/2020   \n7  ensemble forecast     4/13/2020  4 wk ahead cum death             5/9/2020   \n8  ensemble forecast     4/13/2020  1 wk ahead cum death            4/18/2020   \n\n  location_name  point  quantile_0.025  quantile_0.975  \n4       Alabama    152           102.0           325.0  \n5       Alabama    243           116.0           676.0  \n6       Alabama    339           131.0          1151.0  \n7       Alabama    428           142.0          1836.0  \n8      Delaware     52            36.0           146.0  ",
      "text/html": "<div>\n<style scoped>\n    .dataframe tbody tr th:only-of-type {\n        vertical-align: middle;\n    }\n\n    .dataframe tbody tr th {\n        vertical-align: top;\n    }\n\n    .dataframe thead th {\n        text-align: right;\n    }\n</style>\n<table border=\"1\" class=\"dataframe\">\n  <thead>\n    <tr style=\"text-align: right;\">\n      <th></th>\n      <th>model</th>\n      <th>forecast_date</th>\n      <th>target</th>\n      <th>target_week_end_date</th>\n      <th>location_name</th>\n      <th>point</th>\n      <th>quantile_0.025</th>\n      <th>quantile_0.975</th>\n    </tr>\n  </thead>\n  <tbody>\n    <tr>\n      <th>4</th>\n      <td>ensemble forecast</td>\n      <td>4/13/2020</td>\n      <td>1 wk ahead cum death</td>\n      <td>4/18/2020</td>\n      <td>Alabama</td>\n      <td>152</td>\n      <td>102.0</td>\n      <td>325.0</td>\n    </tr>\n    <tr>\n      <th>5</th>\n      <td>ensemble forecast</td>\n      <td>4/13/2020</td>\n      <td>2 wk ahead cum death</td>\n      <td>4/25/2020</td>\n      <td>Alabama</td>\n      <td>243</td>\n      <td>116.0</td>\n      <td>676.0</td>\n    </tr>\n    <tr>\n      <th>6</th>\n      <td>ensemble forecast</td>\n      <td>4/13/2020</td>\n      <td>3 wk ahead cum death</td>\n      <td>5/2/2020</td>\n      <td>Alabama</td>\n      <td>339</td>\n      <td>131.0</td>\n      <td>1151.0</td>\n    </tr>\n    <tr>\n      <th>7</th>\n      <td>ensemble forecast</td>\n      <td>4/13/2020</td>\n      <td>4 wk ahead cum death</td>\n      <td>5/9/2020</td>\n      <td>Alabama</td>\n      <td>428</td>\n      <td>142.0</td>\n      <td>1836.0</td>\n    </tr>\n    <tr>\n      <th>8</th>\n      <td>ensemble forecast</td>\n      <td>4/13/2020</td>\n      <td>1 wk ahead cum death</td>\n      <td>4/18/2020</td>\n      <td>Delaware</td>\n      <td>52</td>\n      <td>36.0</td>\n      <td>146.0</td>\n    </tr>\n  </tbody>\n</table>\n</div>"
     },
     "metadata": {},
     "execution_count": 15
    }
   ],
   "source": [
    "# Only keep rows for states, not whole of US\n",
    "forecast_states = forecast_raw.loc[forecast_raw[\"location_name\"] != \"US\",:]\n",
    "forecast_states.head()"
   ]
  },
  {
   "cell_type": "code",
   "execution_count": 17,
   "metadata": {},
   "outputs": [
    {
     "output_type": "execute_result",
     "data": {
      "text/plain": "model                   1220\nforecast_date           1220\ntarget                  1220\ntarget_week_end_date    1220\nlocation_name           1220\npoint                   1220\nquantile_0.025          1220\nquantile_0.975          1220\ndtype: int64"
     },
     "metadata": {},
     "execution_count": 17
    }
   ],
   "source": [
    "# Drop rows with missing data\n",
    "forecast_states = forecast_states.dropna()\n",
    "forecast_states.count()"
   ]
  },
  {
   "cell_type": "code",
   "execution_count": 32,
   "metadata": {},
   "outputs": [
    {
     "output_type": "execute_result",
     "data": {
      "text/plain": "                model forecast_date                target target_end_date  \\\n4   ensemble forecast     4/13/2020  1 wk ahead cum death       4/18/2020   \n5   ensemble forecast     4/13/2020  2 wk ahead cum death       4/25/2020   \n6   ensemble forecast     4/13/2020  3 wk ahead cum death        5/2/2020   \n7   ensemble forecast     4/13/2020  4 wk ahead cum death        5/9/2020   \n8   ensemble forecast     4/13/2020  1 wk ahead cum death       4/18/2020   \n9   ensemble forecast     4/13/2020  2 wk ahead cum death       4/25/2020   \n10  ensemble forecast     4/13/2020  3 wk ahead cum death        5/2/2020   \n11  ensemble forecast     4/13/2020  4 wk ahead cum death        5/9/2020   \n12  ensemble forecast     4/13/2020  1 wk ahead cum death       4/18/2020   \n13  ensemble forecast     4/13/2020  2 wk ahead cum death       4/25/2020   \n14  ensemble forecast     4/13/2020  3 wk ahead cum death        5/2/2020   \n15  ensemble forecast     4/13/2020  4 wk ahead cum death        5/9/2020   \n16  ensemble forecast     4/13/2020  1 wk ahead cum death       4/18/2020   \n17  ensemble forecast     4/13/2020  2 wk ahead cum death       4/25/2020   \n18  ensemble forecast     4/13/2020  3 wk ahead cum death        5/2/2020   \n19  ensemble forecast     4/13/2020  4 wk ahead cum death        5/9/2020   \n20  ensemble forecast     4/13/2020  1 wk ahead cum death       4/18/2020   \n21  ensemble forecast     4/13/2020  2 wk ahead cum death       4/25/2020   \n22  ensemble forecast     4/13/2020  3 wk ahead cum death        5/2/2020   \n23  ensemble forecast     4/13/2020  4 wk ahead cum death        5/9/2020   \n\n                   state  actual  quantile_0.025  quantile_0.975  \n4                Alabama     152           102.0           325.0  \n5                Alabama     243           116.0           676.0  \n6                Alabama     339           131.0          1151.0  \n7                Alabama     428           142.0          1836.0  \n8               Delaware      52            36.0           146.0  \n9               Delaware      71            36.0           295.0  \n10              Delaware      90            37.0           496.0  \n11              Delaware     108            38.0           828.0  \n12  District of Columbia      75            54.0           154.0  \n13  District of Columbia     103            59.0           272.0  \n14  District of Columbia     127            64.0           404.0  \n15  District of Columbia     145            66.0           571.0  \n16               Florida     796           573.0          1238.0  \n17               Florida    1291           714.0          2505.0  \n18               Florida    1873           858.0          4351.0  \n19               Florida    2490           964.0          6744.0  \n20               Georgia     717           488.0          1450.0  \n21               Georgia    1108           596.0          2578.0  \n22               Georgia    1543           708.0          3855.0  \n23               Georgia    1973           805.0          5470.0  ",
      "text/html": "<div>\n<style scoped>\n    .dataframe tbody tr th:only-of-type {\n        vertical-align: middle;\n    }\n\n    .dataframe tbody tr th {\n        vertical-align: top;\n    }\n\n    .dataframe thead th {\n        text-align: right;\n    }\n</style>\n<table border=\"1\" class=\"dataframe\">\n  <thead>\n    <tr style=\"text-align: right;\">\n      <th></th>\n      <th>model</th>\n      <th>forecast_date</th>\n      <th>target</th>\n      <th>target_end_date</th>\n      <th>state</th>\n      <th>actual</th>\n      <th>quantile_0.025</th>\n      <th>quantile_0.975</th>\n    </tr>\n  </thead>\n  <tbody>\n    <tr>\n      <th>4</th>\n      <td>ensemble forecast</td>\n      <td>4/13/2020</td>\n      <td>1 wk ahead cum death</td>\n      <td>4/18/2020</td>\n      <td>Alabama</td>\n      <td>152</td>\n      <td>102.0</td>\n      <td>325.0</td>\n    </tr>\n    <tr>\n      <th>5</th>\n      <td>ensemble forecast</td>\n      <td>4/13/2020</td>\n      <td>2 wk ahead cum death</td>\n      <td>4/25/2020</td>\n      <td>Alabama</td>\n      <td>243</td>\n      <td>116.0</td>\n      <td>676.0</td>\n    </tr>\n    <tr>\n      <th>6</th>\n      <td>ensemble forecast</td>\n      <td>4/13/2020</td>\n      <td>3 wk ahead cum death</td>\n      <td>5/2/2020</td>\n      <td>Alabama</td>\n      <td>339</td>\n      <td>131.0</td>\n      <td>1151.0</td>\n    </tr>\n    <tr>\n      <th>7</th>\n      <td>ensemble forecast</td>\n      <td>4/13/2020</td>\n      <td>4 wk ahead cum death</td>\n      <td>5/9/2020</td>\n      <td>Alabama</td>\n      <td>428</td>\n      <td>142.0</td>\n      <td>1836.0</td>\n    </tr>\n    <tr>\n      <th>8</th>\n      <td>ensemble forecast</td>\n      <td>4/13/2020</td>\n      <td>1 wk ahead cum death</td>\n      <td>4/18/2020</td>\n      <td>Delaware</td>\n      <td>52</td>\n      <td>36.0</td>\n      <td>146.0</td>\n    </tr>\n    <tr>\n      <th>9</th>\n      <td>ensemble forecast</td>\n      <td>4/13/2020</td>\n      <td>2 wk ahead cum death</td>\n      <td>4/25/2020</td>\n      <td>Delaware</td>\n      <td>71</td>\n      <td>36.0</td>\n      <td>295.0</td>\n    </tr>\n    <tr>\n      <th>10</th>\n      <td>ensemble forecast</td>\n      <td>4/13/2020</td>\n      <td>3 wk ahead cum death</td>\n      <td>5/2/2020</td>\n      <td>Delaware</td>\n      <td>90</td>\n      <td>37.0</td>\n      <td>496.0</td>\n    </tr>\n    <tr>\n      <th>11</th>\n      <td>ensemble forecast</td>\n      <td>4/13/2020</td>\n      <td>4 wk ahead cum death</td>\n      <td>5/9/2020</td>\n      <td>Delaware</td>\n      <td>108</td>\n      <td>38.0</td>\n      <td>828.0</td>\n    </tr>\n    <tr>\n      <th>12</th>\n      <td>ensemble forecast</td>\n      <td>4/13/2020</td>\n      <td>1 wk ahead cum death</td>\n      <td>4/18/2020</td>\n      <td>District of Columbia</td>\n      <td>75</td>\n      <td>54.0</td>\n      <td>154.0</td>\n    </tr>\n    <tr>\n      <th>13</th>\n      <td>ensemble forecast</td>\n      <td>4/13/2020</td>\n      <td>2 wk ahead cum death</td>\n      <td>4/25/2020</td>\n      <td>District of Columbia</td>\n      <td>103</td>\n      <td>59.0</td>\n      <td>272.0</td>\n    </tr>\n    <tr>\n      <th>14</th>\n      <td>ensemble forecast</td>\n      <td>4/13/2020</td>\n      <td>3 wk ahead cum death</td>\n      <td>5/2/2020</td>\n      <td>District of Columbia</td>\n      <td>127</td>\n      <td>64.0</td>\n      <td>404.0</td>\n    </tr>\n    <tr>\n      <th>15</th>\n      <td>ensemble forecast</td>\n      <td>4/13/2020</td>\n      <td>4 wk ahead cum death</td>\n      <td>5/9/2020</td>\n      <td>District of Columbia</td>\n      <td>145</td>\n      <td>66.0</td>\n      <td>571.0</td>\n    </tr>\n    <tr>\n      <th>16</th>\n      <td>ensemble forecast</td>\n      <td>4/13/2020</td>\n      <td>1 wk ahead cum death</td>\n      <td>4/18/2020</td>\n      <td>Florida</td>\n      <td>796</td>\n      <td>573.0</td>\n      <td>1238.0</td>\n    </tr>\n    <tr>\n      <th>17</th>\n      <td>ensemble forecast</td>\n      <td>4/13/2020</td>\n      <td>2 wk ahead cum death</td>\n      <td>4/25/2020</td>\n      <td>Florida</td>\n      <td>1291</td>\n      <td>714.0</td>\n      <td>2505.0</td>\n    </tr>\n    <tr>\n      <th>18</th>\n      <td>ensemble forecast</td>\n      <td>4/13/2020</td>\n      <td>3 wk ahead cum death</td>\n      <td>5/2/2020</td>\n      <td>Florida</td>\n      <td>1873</td>\n      <td>858.0</td>\n      <td>4351.0</td>\n    </tr>\n    <tr>\n      <th>19</th>\n      <td>ensemble forecast</td>\n      <td>4/13/2020</td>\n      <td>4 wk ahead cum death</td>\n      <td>5/9/2020</td>\n      <td>Florida</td>\n      <td>2490</td>\n      <td>964.0</td>\n      <td>6744.0</td>\n    </tr>\n    <tr>\n      <th>20</th>\n      <td>ensemble forecast</td>\n      <td>4/13/2020</td>\n      <td>1 wk ahead cum death</td>\n      <td>4/18/2020</td>\n      <td>Georgia</td>\n      <td>717</td>\n      <td>488.0</td>\n      <td>1450.0</td>\n    </tr>\n    <tr>\n      <th>21</th>\n      <td>ensemble forecast</td>\n      <td>4/13/2020</td>\n      <td>2 wk ahead cum death</td>\n      <td>4/25/2020</td>\n      <td>Georgia</td>\n      <td>1108</td>\n      <td>596.0</td>\n      <td>2578.0</td>\n    </tr>\n    <tr>\n      <th>22</th>\n      <td>ensemble forecast</td>\n      <td>4/13/2020</td>\n      <td>3 wk ahead cum death</td>\n      <td>5/2/2020</td>\n      <td>Georgia</td>\n      <td>1543</td>\n      <td>708.0</td>\n      <td>3855.0</td>\n    </tr>\n    <tr>\n      <th>23</th>\n      <td>ensemble forecast</td>\n      <td>4/13/2020</td>\n      <td>4 wk ahead cum death</td>\n      <td>5/9/2020</td>\n      <td>Georgia</td>\n      <td>1973</td>\n      <td>805.0</td>\n      <td>5470.0</td>\n    </tr>\n  </tbody>\n</table>\n</div>"
     },
     "metadata": {},
     "execution_count": 32
    }
   ],
   "source": [
    "# Rename columns (target week end date to target end date, location name to state, point to actual)\n",
    "forecast_renamed = forecast_states.rename(columns={\"target_week_end_date\":\"target_end_date\", \"location_name\":\"state\", \"point\":\"actual\"})\n",
    "forecast_renamed.head(20)"
   ]
  },
  {
   "cell_type": "code",
   "execution_count": 24,
   "metadata": {},
   "outputs": [
    {
     "output_type": "execute_result",
     "data": {
      "text/plain": "model               object\nforecast_date       object\ntarget              object\ntarget_end_date     object\nstate               object\nactual               int64\nquantile_0.025     float64\nquantile_0.975     float64\ndtype: object"
     },
     "metadata": {},
     "execution_count": 24
    }
   ],
   "source": [
    "# Check if date column types are datetime or string \n",
    "forecast_renamed.dtypes"
   ]
  },
  {
   "cell_type": "code",
   "execution_count": 28,
   "metadata": {},
   "outputs": [],
   "source": [
    "# Change dates from strings to datetime objects\n",
    "forecast_renamed['forecast_date'] = pd.to_datetime(forecast_renamed['forecast_date'],format='%m/%d/%Y')\n",
    "forecast_renamed['target_end_date'] = pd.to_datetime(forecast_renamed['target_end_date'],format='%m/%d/%Y')"
   ]
  },
  {
   "cell_type": "code",
   "execution_count": 29,
   "metadata": {},
   "outputs": [
    {
     "output_type": "execute_result",
     "data": {
      "text/plain": "model                      object\nforecast_date      datetime64[ns]\ntarget                     object\ntarget_end_date    datetime64[ns]\nstate                      object\nactual                      int64\nquantile_0.025            float64\nquantile_0.975            float64\ndtype: object"
     },
     "metadata": {},
     "execution_count": 29
    }
   ],
   "source": [
    "# Verify columns changed to datetime\n",
    "forecast_renamed.dtypes"
   ]
  },
  {
   "cell_type": "code",
   "execution_count": 30,
   "metadata": {},
   "outputs": [],
   "source": [
    "# Export forecast df as a csv so it can be imported to postgres\n",
    "forecast_renamed.to_csv(\"forecast.csv\", encoding=\"utf-8\", index=False)"
   ]
  },
  {
   "cell_type": "code",
   "execution_count": null,
   "metadata": {},
   "outputs": [],
   "source": []
  }
 ],
 "metadata": {
  "language_info": {
   "name": "python",
   "codemirror_mode": {
    "name": "ipython",
    "version": 3
   },
   "version": "3.6.10-final"
  },
  "orig_nbformat": 2,
  "file_extension": ".py",
  "mimetype": "text/x-python",
  "name": "python",
  "npconvert_exporter": "python",
  "pygments_lexer": "ipython3",
  "version": 3,
  "kernelspec": {
   "name": "python37664bitpythondataconda7b76faf93e6a485bb209245349a7d6ad",
   "display_name": "Python 3.7.6 64-bit ('PythonData': conda)"
  }
 },
 "nbformat": 4,
 "nbformat_minor": 2
}