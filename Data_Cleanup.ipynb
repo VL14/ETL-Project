{
 "cells": [
  {
   "cell_type": "code",
   "execution_count": 2,
   "metadata": {},
   "outputs": [],
   "source": [
    "import pandas as pd \n",
    "import csv  "
   ]
  },
  {
   "cell_type": "markdown",
   "metadata": {},
   "source": [
    "# Import Kaggle CSV With Cases & Deaths By State #"
   ]
  },
  {
   "cell_type": "code",
   "execution_count": 3,
   "metadata": {},
   "outputs": [
    {
     "output_type": "execute_result",
     "data": {
      "text/plain": "   UID iso2 iso3  code3  FIPS Admin2            Province_State Country_Region  \\\n0   16   AS  ASM     16  60.0    NaN            American Samoa             US   \n1  316   GU  GUM    316  66.0    NaN                      Guam             US   \n2  580   MP  MNP    580  69.0    NaN  Northern Mariana Islands             US   \n3  630   PR  PRI    630  72.0    NaN               Puerto Rico             US   \n4  850   VI  VIR    850  78.0    NaN            Virgin Islands             US   \n\n       Lat     Long_                  Combined_Key     Date  Confirmed  Deaths  \n0 -14.2710 -170.1320            American Samoa, US  1/22/20          0       0  \n1  13.4443  144.7937                      Guam, US  1/22/20          0       0  \n2  15.0979  145.6739  Northern Mariana Islands, US  1/22/20          0       0  \n3  18.2208  -66.5901               Puerto Rico, US  1/22/20          0       0  \n4  18.3358  -64.8963            Virgin Islands, US  1/22/20          0       0  ",
      "text/html": "<div>\n<style scoped>\n    .dataframe tbody tr th:only-of-type {\n        vertical-align: middle;\n    }\n\n    .dataframe tbody tr th {\n        vertical-align: top;\n    }\n\n    .dataframe thead th {\n        text-align: right;\n    }\n</style>\n<table border=\"1\" class=\"dataframe\">\n  <thead>\n    <tr style=\"text-align: right;\">\n      <th></th>\n      <th>UID</th>\n      <th>iso2</th>\n      <th>iso3</th>\n      <th>code3</th>\n      <th>FIPS</th>\n      <th>Admin2</th>\n      <th>Province_State</th>\n      <th>Country_Region</th>\n      <th>Lat</th>\n      <th>Long_</th>\n      <th>Combined_Key</th>\n      <th>Date</th>\n      <th>Confirmed</th>\n      <th>Deaths</th>\n    </tr>\n  </thead>\n  <tbody>\n    <tr>\n      <th>0</th>\n      <td>16</td>\n      <td>AS</td>\n      <td>ASM</td>\n      <td>16</td>\n      <td>60.0</td>\n      <td>NaN</td>\n      <td>American Samoa</td>\n      <td>US</td>\n      <td>-14.2710</td>\n      <td>-170.1320</td>\n      <td>American Samoa, US</td>\n      <td>1/22/20</td>\n      <td>0</td>\n      <td>0</td>\n    </tr>\n    <tr>\n      <th>1</th>\n      <td>316</td>\n      <td>GU</td>\n      <td>GUM</td>\n      <td>316</td>\n      <td>66.0</td>\n      <td>NaN</td>\n      <td>Guam</td>\n      <td>US</td>\n      <td>13.4443</td>\n      <td>144.7937</td>\n      <td>Guam, US</td>\n      <td>1/22/20</td>\n      <td>0</td>\n      <td>0</td>\n    </tr>\n    <tr>\n      <th>2</th>\n      <td>580</td>\n      <td>MP</td>\n      <td>MNP</td>\n      <td>580</td>\n      <td>69.0</td>\n      <td>NaN</td>\n      <td>Northern Mariana Islands</td>\n      <td>US</td>\n      <td>15.0979</td>\n      <td>145.6739</td>\n      <td>Northern Mariana Islands, US</td>\n      <td>1/22/20</td>\n      <td>0</td>\n      <td>0</td>\n    </tr>\n    <tr>\n      <th>3</th>\n      <td>630</td>\n      <td>PR</td>\n      <td>PRI</td>\n      <td>630</td>\n      <td>72.0</td>\n      <td>NaN</td>\n      <td>Puerto Rico</td>\n      <td>US</td>\n      <td>18.2208</td>\n      <td>-66.5901</td>\n      <td>Puerto Rico, US</td>\n      <td>1/22/20</td>\n      <td>0</td>\n      <td>0</td>\n    </tr>\n    <tr>\n      <th>4</th>\n      <td>850</td>\n      <td>VI</td>\n      <td>VIR</td>\n      <td>850</td>\n      <td>78.0</td>\n      <td>NaN</td>\n      <td>Virgin Islands</td>\n      <td>US</td>\n      <td>18.3358</td>\n      <td>-64.8963</td>\n      <td>Virgin Islands, US</td>\n      <td>1/22/20</td>\n      <td>0</td>\n      <td>0</td>\n    </tr>\n  </tbody>\n</table>\n</div>"
     },
     "metadata": {},
     "execution_count": 3
    }
   ],
   "source": [
    "# Import Kaggle csv file with total cases and deaths by US state and county\n",
    "# Data was downloaded from https://www.kaggle.com/imdevskp/corona-virus-report#usa_county_wise.csv\n",
    "file = \"Raw_Data/usa_county_wise.csv\"\n",
    "kaggle_df = pd.read_csv(file)\n",
    "kaggle_df.head()"
   ]
  },
  {
   "cell_type": "code",
   "execution_count": 4,
   "metadata": {},
   "outputs": [],
   "source": [
    "# Only keep rows for US states (i.e. remove Guam, Virgin Islands, etc.)\n",
    "kaggle_us = kaggle_df.loc[kaggle_df[\"iso2\"] == \"US\",:]"
   ]
  },
  {
   "cell_type": "code",
   "execution_count": 5,
   "metadata": {},
   "outputs": [],
   "source": [
    "# Remove columns not needed (UID, iso2(country/territory), iso3(country/territory), & code3)\n",
    "kaggle_rem_cols = kaggle_us[[\"FIPS\", \"Admin2\",\"Province_State\", \"Lat\", \"Long_\", \"Combined_Key\", \"Date\", \"Confirmed\", \"Deaths\"]]"
   ]
  },
  {
   "cell_type": "code",
   "execution_count": 6,
   "metadata": {},
   "outputs": [
    {
     "output_type": "execute_result",
     "data": {
      "text/plain": "           FIPS      County           State        Lat         Lng  \\\n121105  17141.0        Ogle        Illinois  42.041652  -89.321847   \n95507   21229.0  Washington        Kentucky  37.755995  -85.174077   \n44728   46095.0    Mellette    South Dakota  43.580788 -100.756319   \n212525  20115.0      Marion          Kansas  38.358554  -97.098525   \n156975  18067.0      Howard         Indiana  40.485277  -86.113519   \n193637  29211.0    Sullivan        Missouri  40.209910  -93.111501   \n164989  41053.0        Polk          Oregon  44.903228 -123.412889   \n145272  39009.0      Athens            Ohio  39.334256  -82.042786   \n276615  80051.0   Out of VA        Virginia   0.000000    0.000000   \n262373  37157.0  Rockingham  North Carolina  36.395931  -79.775048   \n\n                          Combined_Key     Date  Confirmed  Deaths  \n121105              Ogle, Illinois, US  2/28/20          0       0  \n95507         Washington, Kentucky, US  2/20/20          0       0  \n44728       Mellette, South Dakota, US   2/4/20          0       0  \n212525              Marion, Kansas, US  3/27/20          0       0  \n156975             Howard, Indiana, US  3/10/20          0       0  \n193637          Sullivan, Missouri, US  3/21/20          0       0  \n164989                Polk, Oregon, US  3/12/20          1       0  \n145272                Athens, Ohio, US   3/6/20          0       0  \n276615         Out of VA, Virginia, US  4/15/20          0       0  \n262373  Rockingham, North Carolina, US  4/11/20         14       2  ",
      "text/html": "<div>\n<style scoped>\n    .dataframe tbody tr th:only-of-type {\n        vertical-align: middle;\n    }\n\n    .dataframe tbody tr th {\n        vertical-align: top;\n    }\n\n    .dataframe thead th {\n        text-align: right;\n    }\n</style>\n<table border=\"1\" class=\"dataframe\">\n  <thead>\n    <tr style=\"text-align: right;\">\n      <th></th>\n      <th>FIPS</th>\n      <th>County</th>\n      <th>State</th>\n      <th>Lat</th>\n      <th>Lng</th>\n      <th>Combined_Key</th>\n      <th>Date</th>\n      <th>Confirmed</th>\n      <th>Deaths</th>\n    </tr>\n  </thead>\n  <tbody>\n    <tr>\n      <th>121105</th>\n      <td>17141.0</td>\n      <td>Ogle</td>\n      <td>Illinois</td>\n      <td>42.041652</td>\n      <td>-89.321847</td>\n      <td>Ogle, Illinois, US</td>\n      <td>2/28/20</td>\n      <td>0</td>\n      <td>0</td>\n    </tr>\n    <tr>\n      <th>95507</th>\n      <td>21229.0</td>\n      <td>Washington</td>\n      <td>Kentucky</td>\n      <td>37.755995</td>\n      <td>-85.174077</td>\n      <td>Washington, Kentucky, US</td>\n      <td>2/20/20</td>\n      <td>0</td>\n      <td>0</td>\n    </tr>\n    <tr>\n      <th>44728</th>\n      <td>46095.0</td>\n      <td>Mellette</td>\n      <td>South Dakota</td>\n      <td>43.580788</td>\n      <td>-100.756319</td>\n      <td>Mellette, South Dakota, US</td>\n      <td>2/4/20</td>\n      <td>0</td>\n      <td>0</td>\n    </tr>\n    <tr>\n      <th>212525</th>\n      <td>20115.0</td>\n      <td>Marion</td>\n      <td>Kansas</td>\n      <td>38.358554</td>\n      <td>-97.098525</td>\n      <td>Marion, Kansas, US</td>\n      <td>3/27/20</td>\n      <td>0</td>\n      <td>0</td>\n    </tr>\n    <tr>\n      <th>156975</th>\n      <td>18067.0</td>\n      <td>Howard</td>\n      <td>Indiana</td>\n      <td>40.485277</td>\n      <td>-86.113519</td>\n      <td>Howard, Indiana, US</td>\n      <td>3/10/20</td>\n      <td>0</td>\n      <td>0</td>\n    </tr>\n    <tr>\n      <th>193637</th>\n      <td>29211.0</td>\n      <td>Sullivan</td>\n      <td>Missouri</td>\n      <td>40.209910</td>\n      <td>-93.111501</td>\n      <td>Sullivan, Missouri, US</td>\n      <td>3/21/20</td>\n      <td>0</td>\n      <td>0</td>\n    </tr>\n    <tr>\n      <th>164989</th>\n      <td>41053.0</td>\n      <td>Polk</td>\n      <td>Oregon</td>\n      <td>44.903228</td>\n      <td>-123.412889</td>\n      <td>Polk, Oregon, US</td>\n      <td>3/12/20</td>\n      <td>1</td>\n      <td>0</td>\n    </tr>\n    <tr>\n      <th>145272</th>\n      <td>39009.0</td>\n      <td>Athens</td>\n      <td>Ohio</td>\n      <td>39.334256</td>\n      <td>-82.042786</td>\n      <td>Athens, Ohio, US</td>\n      <td>3/6/20</td>\n      <td>0</td>\n      <td>0</td>\n    </tr>\n    <tr>\n      <th>276615</th>\n      <td>80051.0</td>\n      <td>Out of VA</td>\n      <td>Virginia</td>\n      <td>0.000000</td>\n      <td>0.000000</td>\n      <td>Out of VA, Virginia, US</td>\n      <td>4/15/20</td>\n      <td>0</td>\n      <td>0</td>\n    </tr>\n    <tr>\n      <th>262373</th>\n      <td>37157.0</td>\n      <td>Rockingham</td>\n      <td>North Carolina</td>\n      <td>36.395931</td>\n      <td>-79.775048</td>\n      <td>Rockingham, North Carolina, US</td>\n      <td>4/11/20</td>\n      <td>14</td>\n      <td>2</td>\n    </tr>\n  </tbody>\n</table>\n</div>"
     },
     "metadata": {},
     "execution_count": 6
    }
   ],
   "source": [
    "# Rename columns (Admin 2 to County, Province_State to State, Long_ to Lng)\n",
    "kaggle_renamed = kaggle_rem_cols.rename(columns={\"Admin2\":\"County\", \"Province_State\":\"State\", \"Long_\":\"Lng\"})\n",
    "kaggle_renamed.sample(10)"
   ]
  },
  {
   "cell_type": "code",
   "execution_count": 7,
   "metadata": {},
   "outputs": [
    {
     "output_type": "execute_result",
     "data": {
      "text/plain": "FIPS            285648\nCounty          285824\nState           286000\nLat             286000\nLng             286000\nCombined_Key    286000\nDate            286000\nConfirmed       286000\nDeaths          286000\ndtype: int64"
     },
     "metadata": {},
     "execution_count": 7
    }
   ],
   "source": [
    "# Check for missing values\n",
    "kaggle_renamed.count()"
   ]
  },
  {
   "cell_type": "code",
   "execution_count": 8,
   "metadata": {},
   "outputs": [
    {
     "output_type": "execute_result",
     "data": {
      "text/plain": "FIPS            285472\nCounty          285472\nState           285472\nLat             285472\nLng             285472\nCombined_Key    285472\nDate            285472\nConfirmed       285472\nDeaths          285472\ndtype: int64"
     },
     "metadata": {},
     "execution_count": 8
    }
   ],
   "source": [
    "# Drop rows with missing data\n",
    "kaggle_drop = kaggle_renamed.dropna()\n",
    "kaggle_drop.count()"
   ]
  },
  {
   "cell_type": "code",
   "execution_count": 9,
   "metadata": {},
   "outputs": [
    {
     "output_type": "execute_result",
     "data": {
      "text/plain": "FIPS            float64\nCounty           object\nState            object\nLat             float64\nLng             float64\nCombined_Key     object\nDate             object\nConfirmed         int64\nDeaths            int64\ndtype: object"
     },
     "metadata": {},
     "execution_count": 9
    }
   ],
   "source": [
    "# Check if date column date are strings or date objects\n",
    "kaggle_drop.dtypes"
   ]
  },
  {
   "cell_type": "code",
   "execution_count": 10,
   "metadata": {},
   "outputs": [],
   "source": [
    "# Change dates from strings to datetime objects\n",
    "kaggle_drop['Date'] = pd.to_datetime(kaggle_drop['Date'],format='%m/%d/%y')"
   ]
  },
  {
   "cell_type": "code",
   "execution_count": 11,
   "metadata": {},
   "outputs": [
    {
     "output_type": "execute_result",
     "data": {
      "text/plain": "FIPS                   float64\nCounty                  object\nState                   object\nLat                    float64\nLng                    float64\nCombined_Key            object\nDate            datetime64[ns]\nConfirmed                int64\nDeaths                   int64\ndtype: object"
     },
     "metadata": {},
     "execution_count": 11
    }
   ],
   "source": [
    "# Check that column type changed\n",
    "kaggle_drop.dtypes"
   ]
  },
  {
   "cell_type": "code",
   "execution_count": 12,
   "metadata": {},
   "outputs": [
    {
     "output_type": "execute_result",
     "data": {
      "text/plain": "           FIPS      County          State  Lat  Lng  \\\n286432  90051.0  Unassigned       Virginia  0.0  0.0   \n286433  90053.0  Unassigned     Washington  0.0  0.0   \n286434  90054.0  Unassigned  West Virginia  0.0  0.0   \n286435  90055.0  Unassigned      Wisconsin  0.0  0.0   \n286436  90056.0  Unassigned        Wyoming  0.0  0.0   \n\n                         Combined_Key       Date  Confirmed  Deaths  \n286432       Unassigned, Virginia, US 2020-04-18          0      94  \n286433     Unassigned, Washington, US 2020-04-18        444       0  \n286434  Unassigned, West Virginia, US 2020-04-18          0       9  \n286435      Unassigned, Wisconsin, US 2020-04-18          0       0  \n286436        Unassigned, Wyoming, US 2020-04-18          0       1  ",
      "text/html": "<div>\n<style scoped>\n    .dataframe tbody tr th:only-of-type {\n        vertical-align: middle;\n    }\n\n    .dataframe tbody tr th {\n        vertical-align: top;\n    }\n\n    .dataframe thead th {\n        text-align: right;\n    }\n</style>\n<table border=\"1\" class=\"dataframe\">\n  <thead>\n    <tr style=\"text-align: right;\">\n      <th></th>\n      <th>FIPS</th>\n      <th>County</th>\n      <th>State</th>\n      <th>Lat</th>\n      <th>Lng</th>\n      <th>Combined_Key</th>\n      <th>Date</th>\n      <th>Confirmed</th>\n      <th>Deaths</th>\n    </tr>\n  </thead>\n  <tbody>\n    <tr>\n      <th>286432</th>\n      <td>90051.0</td>\n      <td>Unassigned</td>\n      <td>Virginia</td>\n      <td>0.0</td>\n      <td>0.0</td>\n      <td>Unassigned, Virginia, US</td>\n      <td>2020-04-18</td>\n      <td>0</td>\n      <td>94</td>\n    </tr>\n    <tr>\n      <th>286433</th>\n      <td>90053.0</td>\n      <td>Unassigned</td>\n      <td>Washington</td>\n      <td>0.0</td>\n      <td>0.0</td>\n      <td>Unassigned, Washington, US</td>\n      <td>2020-04-18</td>\n      <td>444</td>\n      <td>0</td>\n    </tr>\n    <tr>\n      <th>286434</th>\n      <td>90054.0</td>\n      <td>Unassigned</td>\n      <td>West Virginia</td>\n      <td>0.0</td>\n      <td>0.0</td>\n      <td>Unassigned, West Virginia, US</td>\n      <td>2020-04-18</td>\n      <td>0</td>\n      <td>9</td>\n    </tr>\n    <tr>\n      <th>286435</th>\n      <td>90055.0</td>\n      <td>Unassigned</td>\n      <td>Wisconsin</td>\n      <td>0.0</td>\n      <td>0.0</td>\n      <td>Unassigned, Wisconsin, US</td>\n      <td>2020-04-18</td>\n      <td>0</td>\n      <td>0</td>\n    </tr>\n    <tr>\n      <th>286436</th>\n      <td>90056.0</td>\n      <td>Unassigned</td>\n      <td>Wyoming</td>\n      <td>0.0</td>\n      <td>0.0</td>\n      <td>Unassigned, Wyoming, US</td>\n      <td>2020-04-18</td>\n      <td>0</td>\n      <td>1</td>\n    </tr>\n  </tbody>\n</table>\n</div>"
     },
     "metadata": {},
     "execution_count": 12
    }
   ],
   "source": [
    "kaggle_drop.reset_index(drop=True)\n",
    "kaggle_drop.tail()"
   ]
  },
  {
   "cell_type": "code",
   "execution_count": 23,
   "metadata": {},
   "outputs": [
    {
     "output_type": "execute_result",
     "data": {
      "text/plain": "           FIPS       County    State        Lat         Lng  \\\n286317  56017.0  Hot Springs  Wyoming  43.719307 -108.442317   \n286318  56019.0      Johnson  Wyoming  44.040572 -106.584517   \n286319  56021.0      Laramie  Wyoming  41.307025 -104.688750   \n286320  56023.0      Lincoln  Wyoming  42.263764 -110.656400   \n286321  56025.0      Natrona  Wyoming  42.961801 -106.797885   \n286322  56027.0     Niobrara  Wyoming  43.056077 -104.475890   \n286323  56029.0         Park  Wyoming  44.521575 -109.585282   \n286324  56031.0       Platte  Wyoming  42.132991 -104.966331   \n286325  56033.0     Sheridan  Wyoming  44.790489 -106.886239   \n286326  56035.0     Sublette  Wyoming  42.765583 -109.913092   \n286327  56037.0   Sweetwater  Wyoming  41.659439 -108.882788   \n286328  56039.0        Teton  Wyoming  43.935225 -110.589080   \n286329  56041.0        Uinta  Wyoming  41.287818 -110.547578   \n286330  56043.0     Washakie  Wyoming  43.904516 -107.680187   \n286331  56045.0       Weston  Wyoming  43.839612 -104.567488   \n\n                    Combined_Key       Date  Confirmed  Deaths  \n286317  Hot Springs, Wyoming, US 2020-04-18          1       0  \n286318      Johnson, Wyoming, US 2020-04-18         11       1  \n286319      Laramie, Wyoming, US 2020-04-18         70       0  \n286320      Lincoln, Wyoming, US 2020-04-18          5       0  \n286321      Natrona, Wyoming, US 2020-04-18         38       0  \n286322     Niobrara, Wyoming, US 2020-04-18          1       0  \n286323         Park, Wyoming, US 2020-04-18          1       0  \n286324       Platte, Wyoming, US 2020-04-18          0       0  \n286325     Sheridan, Wyoming, US 2020-04-18         12       0  \n286326     Sublette, Wyoming, US 2020-04-18          1       0  \n286327   Sweetwater, Wyoming, US 2020-04-18         10       0  \n286328        Teton, Wyoming, US 2020-04-18         62       0  \n286329        Uinta, Wyoming, US 2020-04-18          6       0  \n286330     Washakie, Wyoming, US 2020-04-18          5       0  \n286331       Weston, Wyoming, US 2020-04-18          0       0  ",
      "text/html": "<div>\n<style scoped>\n    .dataframe tbody tr th:only-of-type {\n        vertical-align: middle;\n    }\n\n    .dataframe tbody tr th {\n        vertical-align: top;\n    }\n\n    .dataframe thead th {\n        text-align: right;\n    }\n</style>\n<table border=\"1\" class=\"dataframe\">\n  <thead>\n    <tr style=\"text-align: right;\">\n      <th></th>\n      <th>FIPS</th>\n      <th>County</th>\n      <th>State</th>\n      <th>Lat</th>\n      <th>Lng</th>\n      <th>Combined_Key</th>\n      <th>Date</th>\n      <th>Confirmed</th>\n      <th>Deaths</th>\n    </tr>\n  </thead>\n  <tbody>\n    <tr>\n      <th>286317</th>\n      <td>56017.0</td>\n      <td>Hot Springs</td>\n      <td>Wyoming</td>\n      <td>43.719307</td>\n      <td>-108.442317</td>\n      <td>Hot Springs, Wyoming, US</td>\n      <td>2020-04-18</td>\n      <td>1</td>\n      <td>0</td>\n    </tr>\n    <tr>\n      <th>286318</th>\n      <td>56019.0</td>\n      <td>Johnson</td>\n      <td>Wyoming</td>\n      <td>44.040572</td>\n      <td>-106.584517</td>\n      <td>Johnson, Wyoming, US</td>\n      <td>2020-04-18</td>\n      <td>11</td>\n      <td>1</td>\n    </tr>\n    <tr>\n      <th>286319</th>\n      <td>56021.0</td>\n      <td>Laramie</td>\n      <td>Wyoming</td>\n      <td>41.307025</td>\n      <td>-104.688750</td>\n      <td>Laramie, Wyoming, US</td>\n      <td>2020-04-18</td>\n      <td>70</td>\n      <td>0</td>\n    </tr>\n    <tr>\n      <th>286320</th>\n      <td>56023.0</td>\n      <td>Lincoln</td>\n      <td>Wyoming</td>\n      <td>42.263764</td>\n      <td>-110.656400</td>\n      <td>Lincoln, Wyoming, US</td>\n      <td>2020-04-18</td>\n      <td>5</td>\n      <td>0</td>\n    </tr>\n    <tr>\n      <th>286321</th>\n      <td>56025.0</td>\n      <td>Natrona</td>\n      <td>Wyoming</td>\n      <td>42.961801</td>\n      <td>-106.797885</td>\n      <td>Natrona, Wyoming, US</td>\n      <td>2020-04-18</td>\n      <td>38</td>\n      <td>0</td>\n    </tr>\n    <tr>\n      <th>286322</th>\n      <td>56027.0</td>\n      <td>Niobrara</td>\n      <td>Wyoming</td>\n      <td>43.056077</td>\n      <td>-104.475890</td>\n      <td>Niobrara, Wyoming, US</td>\n      <td>2020-04-18</td>\n      <td>1</td>\n      <td>0</td>\n    </tr>\n    <tr>\n      <th>286323</th>\n      <td>56029.0</td>\n      <td>Park</td>\n      <td>Wyoming</td>\n      <td>44.521575</td>\n      <td>-109.585282</td>\n      <td>Park, Wyoming, US</td>\n      <td>2020-04-18</td>\n      <td>1</td>\n      <td>0</td>\n    </tr>\n    <tr>\n      <th>286324</th>\n      <td>56031.0</td>\n      <td>Platte</td>\n      <td>Wyoming</td>\n      <td>42.132991</td>\n      <td>-104.966331</td>\n      <td>Platte, Wyoming, US</td>\n      <td>2020-04-18</td>\n      <td>0</td>\n      <td>0</td>\n    </tr>\n    <tr>\n      <th>286325</th>\n      <td>56033.0</td>\n      <td>Sheridan</td>\n      <td>Wyoming</td>\n      <td>44.790489</td>\n      <td>-106.886239</td>\n      <td>Sheridan, Wyoming, US</td>\n      <td>2020-04-18</td>\n      <td>12</td>\n      <td>0</td>\n    </tr>\n    <tr>\n      <th>286326</th>\n      <td>56035.0</td>\n      <td>Sublette</td>\n      <td>Wyoming</td>\n      <td>42.765583</td>\n      <td>-109.913092</td>\n      <td>Sublette, Wyoming, US</td>\n      <td>2020-04-18</td>\n      <td>1</td>\n      <td>0</td>\n    </tr>\n    <tr>\n      <th>286327</th>\n      <td>56037.0</td>\n      <td>Sweetwater</td>\n      <td>Wyoming</td>\n      <td>41.659439</td>\n      <td>-108.882788</td>\n      <td>Sweetwater, Wyoming, US</td>\n      <td>2020-04-18</td>\n      <td>10</td>\n      <td>0</td>\n    </tr>\n    <tr>\n      <th>286328</th>\n      <td>56039.0</td>\n      <td>Teton</td>\n      <td>Wyoming</td>\n      <td>43.935225</td>\n      <td>-110.589080</td>\n      <td>Teton, Wyoming, US</td>\n      <td>2020-04-18</td>\n      <td>62</td>\n      <td>0</td>\n    </tr>\n    <tr>\n      <th>286329</th>\n      <td>56041.0</td>\n      <td>Uinta</td>\n      <td>Wyoming</td>\n      <td>41.287818</td>\n      <td>-110.547578</td>\n      <td>Uinta, Wyoming, US</td>\n      <td>2020-04-18</td>\n      <td>6</td>\n      <td>0</td>\n    </tr>\n    <tr>\n      <th>286330</th>\n      <td>56043.0</td>\n      <td>Washakie</td>\n      <td>Wyoming</td>\n      <td>43.904516</td>\n      <td>-107.680187</td>\n      <td>Washakie, Wyoming, US</td>\n      <td>2020-04-18</td>\n      <td>5</td>\n      <td>0</td>\n    </tr>\n    <tr>\n      <th>286331</th>\n      <td>56045.0</td>\n      <td>Weston</td>\n      <td>Wyoming</td>\n      <td>43.839612</td>\n      <td>-104.567488</td>\n      <td>Weston, Wyoming, US</td>\n      <td>2020-04-18</td>\n      <td>0</td>\n      <td>0</td>\n    </tr>\n  </tbody>\n</table>\n</div>"
     },
     "metadata": {},
     "execution_count": 23
    }
   ],
   "source": [
    "# Remove rows without a county name\n",
    "kaggle_final = kaggle_drop.loc[kaggle_drop[\"County\"] != \"Unassigned\",:]\n",
    "kaggle_final2 = kaggle_final[~kaggle_final[\"County\"].str.contains(\"Out of\")]\n",
    "kaggle_final2.tail(15)"
   ]
  },
  {
   "cell_type": "code",
   "execution_count": 25,
   "metadata": {},
   "outputs": [],
   "source": [
    "# Export kaggle df as a csv so it can be imported to postgres\n",
    "kaggle_final2.to_csv(\"county_data.csv\", encoding=\"utf-8\", index=True)"
   ]
  },
  {
   "cell_type": "markdown",
   "metadata": {},
   "source": [
    "# Import CDC CSV With COVID Forecasts By State #"
   ]
  },
  {
   "cell_type": "code",
   "execution_count": 14,
   "metadata": {},
   "outputs": [
    {
     "output_type": "execute_result",
     "data": {
      "text/plain": "     model forecast_date                target target_week_end_date  \\\n1325  MOBS     4/13/2020  2 wk ahead cum death            4/25/2020   \n1326  MOBS     4/13/2020  2 wk ahead cum death            4/25/2020   \n1327  MOBS     4/13/2020  2 wk ahead cum death            4/25/2020   \n1328  MOBS     4/13/2020  2 wk ahead cum death            4/25/2020   \n1329  MOBS     4/13/2020  2 wk ahead cum death            4/25/2020   \n\n      location_name  point  quantile_0.025  quantile_0.975  \n1325     Washington    939             NaN             NaN  \n1326      Wisconsin    199             NaN             NaN  \n1327  West Virginia     13             NaN             NaN  \n1328        Wyoming     15             NaN             NaN  \n1329             US  46548             NaN             NaN  ",
      "text/html": "<div>\n<style scoped>\n    .dataframe tbody tr th:only-of-type {\n        vertical-align: middle;\n    }\n\n    .dataframe tbody tr th {\n        vertical-align: top;\n    }\n\n    .dataframe thead th {\n        text-align: right;\n    }\n</style>\n<table border=\"1\" class=\"dataframe\">\n  <thead>\n    <tr style=\"text-align: right;\">\n      <th></th>\n      <th>model</th>\n      <th>forecast_date</th>\n      <th>target</th>\n      <th>target_week_end_date</th>\n      <th>location_name</th>\n      <th>point</th>\n      <th>quantile_0.025</th>\n      <th>quantile_0.975</th>\n    </tr>\n  </thead>\n  <tbody>\n    <tr>\n      <th>1325</th>\n      <td>MOBS</td>\n      <td>4/13/2020</td>\n      <td>2 wk ahead cum death</td>\n      <td>4/25/2020</td>\n      <td>Washington</td>\n      <td>939</td>\n      <td>NaN</td>\n      <td>NaN</td>\n    </tr>\n    <tr>\n      <th>1326</th>\n      <td>MOBS</td>\n      <td>4/13/2020</td>\n      <td>2 wk ahead cum death</td>\n      <td>4/25/2020</td>\n      <td>Wisconsin</td>\n      <td>199</td>\n      <td>NaN</td>\n      <td>NaN</td>\n    </tr>\n    <tr>\n      <th>1327</th>\n      <td>MOBS</td>\n      <td>4/13/2020</td>\n      <td>2 wk ahead cum death</td>\n      <td>4/25/2020</td>\n      <td>West Virginia</td>\n      <td>13</td>\n      <td>NaN</td>\n      <td>NaN</td>\n    </tr>\n    <tr>\n      <th>1328</th>\n      <td>MOBS</td>\n      <td>4/13/2020</td>\n      <td>2 wk ahead cum death</td>\n      <td>4/25/2020</td>\n      <td>Wyoming</td>\n      <td>15</td>\n      <td>NaN</td>\n      <td>NaN</td>\n    </tr>\n    <tr>\n      <th>1329</th>\n      <td>MOBS</td>\n      <td>4/13/2020</td>\n      <td>2 wk ahead cum death</td>\n      <td>4/25/2020</td>\n      <td>US</td>\n      <td>46548</td>\n      <td>NaN</td>\n      <td>NaN</td>\n    </tr>\n  </tbody>\n</table>\n</div>"
     },
     "metadata": {},
     "execution_count": 14
    }
   ],
   "source": [
    "# Import csv file with forecast of potential deaths by state\n",
    "# Data was downloaded from https://www.cdc.gov/coronavirus/2019-ncov/covid-data/forecasting-us.html\n",
    "file2 = \"Raw_Data/forecast_data_0413.csv\"\n",
    "forecast_raw = pd.read_csv(file2)\n",
    "forecast_raw.tail()"
   ]
  },
  {
   "cell_type": "code",
   "execution_count": 15,
   "metadata": {},
   "outputs": [
    {
     "output_type": "execute_result",
     "data": {
      "text/plain": "               model forecast_date                target target_week_end_date  \\\n4  ensemble forecast     4/13/2020  1 wk ahead cum death            4/18/2020   \n5  ensemble forecast     4/13/2020  2 wk ahead cum death            4/25/2020   \n6  ensemble forecast     4/13/2020  3 wk ahead cum death             5/2/2020   \n7  ensemble forecast     4/13/2020  4 wk ahead cum death             5/9/2020   \n8  ensemble forecast     4/13/2020  1 wk ahead cum death            4/18/2020   \n\n  location_name  point  quantile_0.025  quantile_0.975  \n4       Alabama    152           102.0           325.0  \n5       Alabama    243           116.0           676.0  \n6       Alabama    339           131.0          1151.0  \n7       Alabama    428           142.0          1836.0  \n8      Delaware     52            36.0           146.0  ",
      "text/html": "<div>\n<style scoped>\n    .dataframe tbody tr th:only-of-type {\n        vertical-align: middle;\n    }\n\n    .dataframe tbody tr th {\n        vertical-align: top;\n    }\n\n    .dataframe thead th {\n        text-align: right;\n    }\n</style>\n<table border=\"1\" class=\"dataframe\">\n  <thead>\n    <tr style=\"text-align: right;\">\n      <th></th>\n      <th>model</th>\n      <th>forecast_date</th>\n      <th>target</th>\n      <th>target_week_end_date</th>\n      <th>location_name</th>\n      <th>point</th>\n      <th>quantile_0.025</th>\n      <th>quantile_0.975</th>\n    </tr>\n  </thead>\n  <tbody>\n    <tr>\n      <th>4</th>\n      <td>ensemble forecast</td>\n      <td>4/13/2020</td>\n      <td>1 wk ahead cum death</td>\n      <td>4/18/2020</td>\n      <td>Alabama</td>\n      <td>152</td>\n      <td>102.0</td>\n      <td>325.0</td>\n    </tr>\n    <tr>\n      <th>5</th>\n      <td>ensemble forecast</td>\n      <td>4/13/2020</td>\n      <td>2 wk ahead cum death</td>\n      <td>4/25/2020</td>\n      <td>Alabama</td>\n      <td>243</td>\n      <td>116.0</td>\n      <td>676.0</td>\n    </tr>\n    <tr>\n      <th>6</th>\n      <td>ensemble forecast</td>\n      <td>4/13/2020</td>\n      <td>3 wk ahead cum death</td>\n      <td>5/2/2020</td>\n      <td>Alabama</td>\n      <td>339</td>\n      <td>131.0</td>\n      <td>1151.0</td>\n    </tr>\n    <tr>\n      <th>7</th>\n      <td>ensemble forecast</td>\n      <td>4/13/2020</td>\n      <td>4 wk ahead cum death</td>\n      <td>5/9/2020</td>\n      <td>Alabama</td>\n      <td>428</td>\n      <td>142.0</td>\n      <td>1836.0</td>\n    </tr>\n    <tr>\n      <th>8</th>\n      <td>ensemble forecast</td>\n      <td>4/13/2020</td>\n      <td>1 wk ahead cum death</td>\n      <td>4/18/2020</td>\n      <td>Delaware</td>\n      <td>52</td>\n      <td>36.0</td>\n      <td>146.0</td>\n    </tr>\n  </tbody>\n</table>\n</div>"
     },
     "metadata": {},
     "execution_count": 15
    }
   ],
   "source": [
    "# Only keep rows for states, not whole of US\n",
    "forecast_states = forecast_raw.loc[forecast_raw[\"location_name\"] != \"US\",:]\n",
    "forecast_states.head()"
   ]
  },
  {
   "cell_type": "code",
   "execution_count": 16,
   "metadata": {},
   "outputs": [
    {
     "output_type": "execute_result",
     "data": {
      "text/plain": "model                   1220\nforecast_date           1220\ntarget                  1220\ntarget_week_end_date    1220\nlocation_name           1220\npoint                   1220\nquantile_0.025          1220\nquantile_0.975          1220\ndtype: int64"
     },
     "metadata": {},
     "execution_count": 16
    }
   ],
   "source": [
    "# Drop rows with missing data\n",
    "forecast_states = forecast_states.dropna()\n",
    "forecast_states.count()"
   ]
  },
  {
   "cell_type": "code",
   "execution_count": 17,
   "metadata": {},
   "outputs": [
    {
     "output_type": "execute_result",
     "data": {
      "text/plain": "                model forecast_date                target target_end_date  \\\n4   ensemble forecast     4/13/2020  1 wk ahead cum death       4/18/2020   \n5   ensemble forecast     4/13/2020  2 wk ahead cum death       4/25/2020   \n6   ensemble forecast     4/13/2020  3 wk ahead cum death        5/2/2020   \n7   ensemble forecast     4/13/2020  4 wk ahead cum death        5/9/2020   \n8   ensemble forecast     4/13/2020  1 wk ahead cum death       4/18/2020   \n9   ensemble forecast     4/13/2020  2 wk ahead cum death       4/25/2020   \n10  ensemble forecast     4/13/2020  3 wk ahead cum death        5/2/2020   \n11  ensemble forecast     4/13/2020  4 wk ahead cum death        5/9/2020   \n12  ensemble forecast     4/13/2020  1 wk ahead cum death       4/18/2020   \n13  ensemble forecast     4/13/2020  2 wk ahead cum death       4/25/2020   \n14  ensemble forecast     4/13/2020  3 wk ahead cum death        5/2/2020   \n15  ensemble forecast     4/13/2020  4 wk ahead cum death        5/9/2020   \n16  ensemble forecast     4/13/2020  1 wk ahead cum death       4/18/2020   \n17  ensemble forecast     4/13/2020  2 wk ahead cum death       4/25/2020   \n18  ensemble forecast     4/13/2020  3 wk ahead cum death        5/2/2020   \n19  ensemble forecast     4/13/2020  4 wk ahead cum death        5/9/2020   \n20  ensemble forecast     4/13/2020  1 wk ahead cum death       4/18/2020   \n21  ensemble forecast     4/13/2020  2 wk ahead cum death       4/25/2020   \n22  ensemble forecast     4/13/2020  3 wk ahead cum death        5/2/2020   \n23  ensemble forecast     4/13/2020  4 wk ahead cum death        5/9/2020   \n\n                   state  actual  quantile_0.025  quantile_0.975  \n4                Alabama     152           102.0           325.0  \n5                Alabama     243           116.0           676.0  \n6                Alabama     339           131.0          1151.0  \n7                Alabama     428           142.0          1836.0  \n8               Delaware      52            36.0           146.0  \n9               Delaware      71            36.0           295.0  \n10              Delaware      90            37.0           496.0  \n11              Delaware     108            38.0           828.0  \n12  District of Columbia      75            54.0           154.0  \n13  District of Columbia     103            59.0           272.0  \n14  District of Columbia     127            64.0           404.0  \n15  District of Columbia     145            66.0           571.0  \n16               Florida     796           573.0          1238.0  \n17               Florida    1291           714.0          2505.0  \n18               Florida    1873           858.0          4351.0  \n19               Florida    2490           964.0          6744.0  \n20               Georgia     717           488.0          1450.0  \n21               Georgia    1108           596.0          2578.0  \n22               Georgia    1543           708.0          3855.0  \n23               Georgia    1973           805.0          5470.0  ",
      "text/html": "<div>\n<style scoped>\n    .dataframe tbody tr th:only-of-type {\n        vertical-align: middle;\n    }\n\n    .dataframe tbody tr th {\n        vertical-align: top;\n    }\n\n    .dataframe thead th {\n        text-align: right;\n    }\n</style>\n<table border=\"1\" class=\"dataframe\">\n  <thead>\n    <tr style=\"text-align: right;\">\n      <th></th>\n      <th>model</th>\n      <th>forecast_date</th>\n      <th>target</th>\n      <th>target_end_date</th>\n      <th>state</th>\n      <th>actual</th>\n      <th>quantile_0.025</th>\n      <th>quantile_0.975</th>\n    </tr>\n  </thead>\n  <tbody>\n    <tr>\n      <th>4</th>\n      <td>ensemble forecast</td>\n      <td>4/13/2020</td>\n      <td>1 wk ahead cum death</td>\n      <td>4/18/2020</td>\n      <td>Alabama</td>\n      <td>152</td>\n      <td>102.0</td>\n      <td>325.0</td>\n    </tr>\n    <tr>\n      <th>5</th>\n      <td>ensemble forecast</td>\n      <td>4/13/2020</td>\n      <td>2 wk ahead cum death</td>\n      <td>4/25/2020</td>\n      <td>Alabama</td>\n      <td>243</td>\n      <td>116.0</td>\n      <td>676.0</td>\n    </tr>\n    <tr>\n      <th>6</th>\n      <td>ensemble forecast</td>\n      <td>4/13/2020</td>\n      <td>3 wk ahead cum death</td>\n      <td>5/2/2020</td>\n      <td>Alabama</td>\n      <td>339</td>\n      <td>131.0</td>\n      <td>1151.0</td>\n    </tr>\n    <tr>\n      <th>7</th>\n      <td>ensemble forecast</td>\n      <td>4/13/2020</td>\n      <td>4 wk ahead cum death</td>\n      <td>5/9/2020</td>\n      <td>Alabama</td>\n      <td>428</td>\n      <td>142.0</td>\n      <td>1836.0</td>\n    </tr>\n    <tr>\n      <th>8</th>\n      <td>ensemble forecast</td>\n      <td>4/13/2020</td>\n      <td>1 wk ahead cum death</td>\n      <td>4/18/2020</td>\n      <td>Delaware</td>\n      <td>52</td>\n      <td>36.0</td>\n      <td>146.0</td>\n    </tr>\n    <tr>\n      <th>9</th>\n      <td>ensemble forecast</td>\n      <td>4/13/2020</td>\n      <td>2 wk ahead cum death</td>\n      <td>4/25/2020</td>\n      <td>Delaware</td>\n      <td>71</td>\n      <td>36.0</td>\n      <td>295.0</td>\n    </tr>\n    <tr>\n      <th>10</th>\n      <td>ensemble forecast</td>\n      <td>4/13/2020</td>\n      <td>3 wk ahead cum death</td>\n      <td>5/2/2020</td>\n      <td>Delaware</td>\n      <td>90</td>\n      <td>37.0</td>\n      <td>496.0</td>\n    </tr>\n    <tr>\n      <th>11</th>\n      <td>ensemble forecast</td>\n      <td>4/13/2020</td>\n      <td>4 wk ahead cum death</td>\n      <td>5/9/2020</td>\n      <td>Delaware</td>\n      <td>108</td>\n      <td>38.0</td>\n      <td>828.0</td>\n    </tr>\n    <tr>\n      <th>12</th>\n      <td>ensemble forecast</td>\n      <td>4/13/2020</td>\n      <td>1 wk ahead cum death</td>\n      <td>4/18/2020</td>\n      <td>District of Columbia</td>\n      <td>75</td>\n      <td>54.0</td>\n      <td>154.0</td>\n    </tr>\n    <tr>\n      <th>13</th>\n      <td>ensemble forecast</td>\n      <td>4/13/2020</td>\n      <td>2 wk ahead cum death</td>\n      <td>4/25/2020</td>\n      <td>District of Columbia</td>\n      <td>103</td>\n      <td>59.0</td>\n      <td>272.0</td>\n    </tr>\n    <tr>\n      <th>14</th>\n      <td>ensemble forecast</td>\n      <td>4/13/2020</td>\n      <td>3 wk ahead cum death</td>\n      <td>5/2/2020</td>\n      <td>District of Columbia</td>\n      <td>127</td>\n      <td>64.0</td>\n      <td>404.0</td>\n    </tr>\n    <tr>\n      <th>15</th>\n      <td>ensemble forecast</td>\n      <td>4/13/2020</td>\n      <td>4 wk ahead cum death</td>\n      <td>5/9/2020</td>\n      <td>District of Columbia</td>\n      <td>145</td>\n      <td>66.0</td>\n      <td>571.0</td>\n    </tr>\n    <tr>\n      <th>16</th>\n      <td>ensemble forecast</td>\n      <td>4/13/2020</td>\n      <td>1 wk ahead cum death</td>\n      <td>4/18/2020</td>\n      <td>Florida</td>\n      <td>796</td>\n      <td>573.0</td>\n      <td>1238.0</td>\n    </tr>\n    <tr>\n      <th>17</th>\n      <td>ensemble forecast</td>\n      <td>4/13/2020</td>\n      <td>2 wk ahead cum death</td>\n      <td>4/25/2020</td>\n      <td>Florida</td>\n      <td>1291</td>\n      <td>714.0</td>\n      <td>2505.0</td>\n    </tr>\n    <tr>\n      <th>18</th>\n      <td>ensemble forecast</td>\n      <td>4/13/2020</td>\n      <td>3 wk ahead cum death</td>\n      <td>5/2/2020</td>\n      <td>Florida</td>\n      <td>1873</td>\n      <td>858.0</td>\n      <td>4351.0</td>\n    </tr>\n    <tr>\n      <th>19</th>\n      <td>ensemble forecast</td>\n      <td>4/13/2020</td>\n      <td>4 wk ahead cum death</td>\n      <td>5/9/2020</td>\n      <td>Florida</td>\n      <td>2490</td>\n      <td>964.0</td>\n      <td>6744.0</td>\n    </tr>\n    <tr>\n      <th>20</th>\n      <td>ensemble forecast</td>\n      <td>4/13/2020</td>\n      <td>1 wk ahead cum death</td>\n      <td>4/18/2020</td>\n      <td>Georgia</td>\n      <td>717</td>\n      <td>488.0</td>\n      <td>1450.0</td>\n    </tr>\n    <tr>\n      <th>21</th>\n      <td>ensemble forecast</td>\n      <td>4/13/2020</td>\n      <td>2 wk ahead cum death</td>\n      <td>4/25/2020</td>\n      <td>Georgia</td>\n      <td>1108</td>\n      <td>596.0</td>\n      <td>2578.0</td>\n    </tr>\n    <tr>\n      <th>22</th>\n      <td>ensemble forecast</td>\n      <td>4/13/2020</td>\n      <td>3 wk ahead cum death</td>\n      <td>5/2/2020</td>\n      <td>Georgia</td>\n      <td>1543</td>\n      <td>708.0</td>\n      <td>3855.0</td>\n    </tr>\n    <tr>\n      <th>23</th>\n      <td>ensemble forecast</td>\n      <td>4/13/2020</td>\n      <td>4 wk ahead cum death</td>\n      <td>5/9/2020</td>\n      <td>Georgia</td>\n      <td>1973</td>\n      <td>805.0</td>\n      <td>5470.0</td>\n    </tr>\n  </tbody>\n</table>\n</div>"
     },
     "metadata": {},
     "execution_count": 17
    }
   ],
   "source": [
    "# Rename columns (target week end date to target end date, location name to state, point to actual)\n",
    "forecast_renamed = forecast_states.rename(columns={\"target_week_end_date\":\"target_end_date\", \"location_name\":\"state\", \"point\":\"actual\"})\n",
    "forecast_renamed.head(20)"
   ]
  },
  {
   "cell_type": "code",
   "execution_count": 18,
   "metadata": {},
   "outputs": [
    {
     "output_type": "execute_result",
     "data": {
      "text/plain": "model               object\nforecast_date       object\ntarget              object\ntarget_end_date     object\nstate               object\nactual               int64\nquantile_0.025     float64\nquantile_0.975     float64\ndtype: object"
     },
     "metadata": {},
     "execution_count": 18
    }
   ],
   "source": [
    "# Check if date column types are datetime or string \n",
    "forecast_renamed.dtypes"
   ]
  },
  {
   "cell_type": "code",
   "execution_count": 19,
   "metadata": {},
   "outputs": [],
   "source": [
    "# Change dates from strings to datetime objects\n",
    "forecast_renamed['forecast_date'] = pd.to_datetime(forecast_renamed['forecast_date'],format='%m/%d/%Y')\n",
    "forecast_renamed['target_end_date'] = pd.to_datetime(forecast_renamed['target_end_date'],format='%m/%d/%Y')"
   ]
  },
  {
   "cell_type": "code",
   "execution_count": 20,
   "metadata": {},
   "outputs": [
    {
     "output_type": "execute_result",
     "data": {
      "text/plain": "model                      object\nforecast_date      datetime64[ns]\ntarget                     object\ntarget_end_date    datetime64[ns]\nstate                      object\nactual                      int64\nquantile_0.025            float64\nquantile_0.975            float64\ndtype: object"
     },
     "metadata": {},
     "execution_count": 20
    }
   ],
   "source": [
    "# Verify columns changed to datetime\n",
    "forecast_renamed.dtypes"
   ]
  },
  {
   "cell_type": "code",
   "execution_count": 21,
   "metadata": {},
   "outputs": [],
   "source": [
    "# Export forecast df as a csv so it can be imported to postgres\n",
    "forecast_renamed.to_csv(\"forecast.csv\", encoding=\"utf-8\", index=False)"
   ]
  },
  {
   "cell_type": "code",
   "execution_count": null,
   "metadata": {},
   "outputs": [],
   "source": []
  }
 ],
 "metadata": {
  "language_info": {
   "name": "python",
   "codemirror_mode": {
    "name": "ipython",
    "version": 3
   },
   "version": "3.6.10-final"
  },
  "orig_nbformat": 2,
  "file_extension": ".py",
  "mimetype": "text/x-python",
  "name": "python",
  "npconvert_exporter": "python",
  "pygments_lexer": "ipython3",
  "version": 3,
  "kernelspec": {
   "name": "python37664bitpythondataconda7b76faf93e6a485bb209245349a7d6ad",
   "display_name": "Python 3.7.6 64-bit ('PythonData': conda)"
  }
 },
 "nbformat": 4,
 "nbformat_minor": 2
}